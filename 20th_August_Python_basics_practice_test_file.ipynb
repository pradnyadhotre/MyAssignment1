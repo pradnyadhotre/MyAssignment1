{
 "cells": [
  {
   "cell_type": "code",
   "execution_count": 1,
   "id": "ed9dc3ef-4e7d-454f-a599-58c02c3ea4c4",
   "metadata": {},
   "outputs": [
    {
     "data": {
      "text/plain": [
       "'yrotsiH'"
      ]
     },
     "execution_count": 1,
     "metadata": {},
     "output_type": "execute_result"
    }
   ],
   "source": [
    "#1. Write a program to reverse a string.\n",
    "string1A = \"History\"\n",
    "string1A = string1A[::-1]\n",
    "string1A"
   ]
  },
  {
   "cell_type": "code",
   "execution_count": 2,
   "id": "8949ae06-e122-4829-b27a-30526775f297",
   "metadata": {},
   "outputs": [
    {
     "name": "stdout",
     "output_type": "stream",
     "text": [
      "Palindrome\n"
     ]
    }
   ],
   "source": [
    "#2. Check if a string is a palindrome.\n",
    "string2A = \"Nitin\"\n",
    "string2A = string2A.lower()\n",
    "string2B = string2A[::-1]\n",
    "\n",
    "if string2A == string2B:\n",
    "    print(\"Palindrome\")\n",
    "else:\n",
    "    print(\"Not Palindrome\")"
   ]
  },
  {
   "cell_type": "code",
   "execution_count": 3,
   "id": "72bd076b-cb95-4289-95ff-80ffeb126974",
   "metadata": {},
   "outputs": [
    {
     "name": "stdout",
     "output_type": "stream",
     "text": [
      "NUMBERS ARE MAGIC\n"
     ]
    }
   ],
   "source": [
    "#3. Convert a string to uppercase.\n",
    "string3A = \"numbers are magic\"\n",
    "string3B = string3A.upper()\n",
    "print(string3B)"
   ]
  },
  {
   "cell_type": "code",
   "execution_count": 4,
   "id": "9331cc09-dc85-4d80-b2d8-54c8c07293c5",
   "metadata": {},
   "outputs": [
    {
     "name": "stdout",
     "output_type": "stream",
     "text": [
      "you will get what you deserve\n"
     ]
    }
   ],
   "source": [
    "#4. Convert a string to lowercase.\n",
    "string4A = \"YOU WILL GET WHAT YOU DESERVE\"\n",
    "string4B = string4A.lower()\n",
    "print(string4B)"
   ]
  },
  {
   "cell_type": "code",
   "execution_count": 8,
   "id": "5c73c5d2-773f-4bc7-bb09-9f482a8a1607",
   "metadata": {},
   "outputs": [
    {
     "name": "stdout",
     "output_type": "stream",
     "text": [
      "The total counts in House are 3\n"
     ]
    }
   ],
   "source": [
    "#5. Count the number of vowels in a string.\n",
    "vowels = ['a','e','o','i','u']\n",
    "\n",
    "stirng5A = \"House\"\n",
    "vowel_count = 0\n",
    "for i in stirng5A:\n",
    "    if i in vowels:\n",
    "        vowel_count = vowel_count + 1\n",
    "\n",
    "print(\"The total counts in\",stirng5A, \"are\", vowel_count)"
   ]
  },
  {
   "cell_type": "code",
   "execution_count": 9,
   "id": "e657fbcc-b746-482e-8e5d-25d242d5cd67",
   "metadata": {},
   "outputs": [
    {
     "name": "stdout",
     "output_type": "stream",
     "text": [
      "The total consonents in House are 2\n"
     ]
    }
   ],
   "source": [
    "#6. Count the number of consonants in a string.\n",
    "string6A = \"House\"\n",
    "total_con = len(string6A)\n",
    "\n",
    "for i in string6A:\n",
    "    if i in vowels:\n",
    "        total_con = total_con - 1\n",
    "\n",
    "print(\"The total consonents in\",string6A,\"are\",total_con)"
   ]
  },
  {
   "cell_type": "code",
   "execution_count": 10,
   "id": "d82c1649-f53c-4218-b16f-30e0ac515a9e",
   "metadata": {},
   "outputs": [
    {
     "name": "stdout",
     "output_type": "stream",
     "text": [
      "PowerBI\n"
     ]
    }
   ],
   "source": [
    "#7. Remove all whitespaces from a string.\n",
    "string7A = \"Power BI\"\n",
    "string7B = string7A.replace(\" \",\"\")\n",
    "print(string7B)\n"
   ]
  },
  {
   "cell_type": "code",
   "execution_count": 14,
   "id": "8faac009-644a-4e75-a97c-1f958d428e7a",
   "metadata": {},
   "outputs": [
    {
     "name": "stdout",
     "output_type": "stream",
     "text": [
      "14\n"
     ]
    }
   ],
   "source": [
    "#8. Find the length of a string without using the `len()` function.\n",
    "string8A = \"Data Scientist\"\n",
    "string8ACount = 0\n",
    "\n",
    "for i in string8A:\n",
    "    string8ACount = string8ACount + 1\n",
    "print(string8ACount)"
   ]
  },
  {
   "cell_type": "code",
   "execution_count": 15,
   "id": "2056bf71-a757-4821-8665-16a4d4af8054",
   "metadata": {},
   "outputs": [
    {
     "name": "stdout",
     "output_type": "stream",
     "text": [
      "Substring found\n"
     ]
    }
   ],
   "source": [
    "#9. Check if a string contains a specific word.\n",
    "string9A = \"Data can be analyse using PowerBI\"\n",
    "subString9A = \"Data\"\n",
    "\n",
    "if subString9A in string9A:\n",
    "    print(\"Substring found\")\n",
    "else:\n",
    "    print(\"Substring not found\")"
   ]
  },
  {
   "cell_type": "code",
   "execution_count": 19,
   "id": "5cb9e2f7-bcab-487b-b4d5-f090f7dfdbbc",
   "metadata": {},
   "outputs": [
    {
     "name": "stdout",
     "output_type": "stream",
     "text": [
      "Data Scientist\n"
     ]
    }
   ],
   "source": [
    "#10. Replace a word in a string with another word.\n",
    "string10A = \"Data Analyst\"\n",
    "string10B = \"Analyst\"\n",
    "string10C = \"Scientist\"\n",
    "\n",
    "string10D = string10A.replace(string10B,string10C)\n",
    "print(string10D)"
   ]
  },
  {
   "cell_type": "code",
   "execution_count": 48,
   "id": "bf227ce9-c06c-4583-96e8-e3e0db905f1a",
   "metadata": {},
   "outputs": [
    {
     "name": "stdout",
     "output_type": "stream",
     "text": [
      "Total occurrences of a word data in a string is  4\n"
     ]
    }
   ],
   "source": [
    "#11. Count the occurrences of a word in a string.\n",
    "string11A = \"Data is everything in Data Science. Learn Data, you will get data\"\n",
    "string11 = string11A.lower()\n",
    "string11B = \"data\"\n",
    "\n",
    "string11_count = string11.count(string11B)\n",
    "print(\"Total occurrences of a word data in a string is \",string11_count)\n"
   ]
  },
  {
   "cell_type": "code",
   "execution_count": 34,
   "id": "0bf3d652-415a-49df-8429-e5c3bbc0368f",
   "metadata": {},
   "outputs": [
    {
     "name": "stdout",
     "output_type": "stream",
     "text": [
      "The first occurance is at position 9\n"
     ]
    }
   ],
   "source": [
    "#12. Find the first occurrence of a word in a string.\n",
    "\n",
    "string12A = \"Data is everything in Data Science. Learn Data, you will get data\"\n",
    "string12 = string11A.lower()\n",
    "string12B = \"you\"\n",
    "string12_list = string12.split(\" \")\n",
    "count12 = 0\n",
    "count12Pos = 0\n",
    "count12PosFinal = 0\n",
    "\n",
    "for i in string12_list:\n",
    "    count12Pos = count12Pos + 1\n",
    "    if i == string12B and count12 == 0:\n",
    "        count12 = count12 + 1\n",
    "        count12PosFinal = count12Pos\n",
    "\n",
    "print(\"The first occurance is at position\",count12PosFinal)\n",
    "        "
   ]
  },
  {
   "cell_type": "code",
   "execution_count": 37,
   "id": "67b5b126-d83d-4baa-908d-deff8e952aa0",
   "metadata": {},
   "outputs": [
    {
     "name": "stdout",
     "output_type": "stream",
     "text": [
      "The last occurance is at position 9\n"
     ]
    }
   ],
   "source": [
    "#13. Find the last occurrence of a word in a string.\n",
    "\n",
    "string13A = \"Data is everything in Data Science. Learn Data, you will get data and you will become a data scientist\"\n",
    "string13 = string11A.lower()\n",
    "string13B = \"you\"\n",
    "string13_list = string13.split(\" \")\n",
    "count13 = 0\n",
    "count13Pos = 0\n",
    "count13PosFinal = 0\n",
    "\n",
    "for i in string13_list:\n",
    "    count13Pos = count13Pos + 1\n",
    "    if i == string13B:\n",
    "        count13 = count13 + 1\n",
    "        count13PosFinal = count13Pos\n",
    "\n",
    "print(\"The last occurance is at position\",count13PosFinal)"
   ]
  },
  {
   "cell_type": "code",
   "execution_count": 40,
   "id": "ba84ddcc-7b66-4647-8d7e-d9b57c567346",
   "metadata": {},
   "outputs": [
    {
     "name": "stdout",
     "output_type": "stream",
     "text": [
      "['Data', 'science', 'is', 'the', 'study', 'of', 'data', 'to', 'extract', 'meaningful', 'insights', 'for', 'business.']\n"
     ]
    }
   ],
   "source": [
    "#14. Split a string into a list of words.\n",
    "string14 = \"Data science is the study of data to extract meaningful insights for business.\"\n",
    "string14_list = string14.split(\" \")\n",
    "print(string14_list)"
   ]
  },
  {
   "cell_type": "code",
   "execution_count": 45,
   "id": "e65cfee8-77e1-47d6-8e0f-f0b097f6c7c2",
   "metadata": {},
   "outputs": [
    {
     "name": "stdout",
     "output_type": "stream",
     "text": [
      "Microsoft Power BI is an interactive data visualization software. \n"
     ]
    }
   ],
   "source": [
    "#15. Join a list of words into a string.\n",
    "string15_list1 = [\"Microsoft Power BI\"]\n",
    "string15_list2 = [\"is an interactive data visualization software.\"]\n",
    "\n",
    "string15_list3 = string15_list1 + string15_list2\n",
    "string15_string = ''\n",
    "for i in string15_list3:\n",
    "    string15_string = string15_string + i + \" \"\n",
    "\n",
    "print(string15_string) \n",
    "    "
   ]
  },
  {
   "cell_type": "code",
   "execution_count": 46,
   "id": "3d165866-6db1-4d25-90ce-a76676de8e12",
   "metadata": {},
   "outputs": [
    {
     "name": "stdout",
     "output_type": "stream",
     "text": [
      "Microsoft_Power_BI_is_a_data_visualization_and_reporting_platform\n"
     ]
    }
   ],
   "source": [
    "#16. Convert a string where words are separated by spaces to one where words are separated by underscores.\n",
    "string16A = \"Microsoft Power BI is a data visualization and reporting platform\"\n",
    "string16 = string16A.replace(\" \",\"_\")\n",
    "print(string16)"
   ]
  },
  {
   "cell_type": "code",
   "execution_count": 63,
   "id": "9168a0ba-3fac-4523-a388-f292e035f5a6",
   "metadata": {},
   "outputs": [
    {
     "name": "stdout",
     "output_type": "stream",
     "text": [
      "No, it doesn't start with Microsoft Power BIss\n"
     ]
    }
   ],
   "source": [
    "#17. Check if a string starts with a specific word or phrase.\n",
    "string17A = \"Microsoft Power BI is a data visualization and reporting platform\"\n",
    "string17B = \"Microsoft Power BI\"\n",
    "\n",
    "if string17A.startswith(string17B):\n",
    "    print(\"Yes, it does start with\", string17B)\n",
    "else:    \n",
    "    print(\"No, it doesn't start with\", string17B)"
   ]
  },
  {
   "cell_type": "code",
   "execution_count": 64,
   "id": "d578004e-198a-4c57-80c1-9ac8830bf85a",
   "metadata": {},
   "outputs": [
    {
     "name": "stdout",
     "output_type": "stream",
     "text": [
      "Yes, it does end with reporting platform\n"
     ]
    }
   ],
   "source": [
    "#18. Check if a string ends with a specific word or phrase.\n",
    "string18A = \"Microsoft Power BI is a data visualization and reporting platform\"\n",
    "string18B = \"reporting platform\"\n",
    "\n",
    "if string18A.endswith(string18B):\n",
    "    print(\"Yes, it does end with\", string18B)\n",
    "else:    \n",
    "    print(\"No, it doesn't end with\", string18B)"
   ]
  },
  {
   "cell_type": "code",
   "execution_count": 66,
   "id": "e1a3fcfe-6cc2-4907-864a-5d3254cf5ca3",
   "metadata": {},
   "outputs": [
    {
     "name": "stdout",
     "output_type": "stream",
     "text": [
      "Chandrayaan-3 Is The Third Mission In The Chandrayaan Programme.\n"
     ]
    }
   ],
   "source": [
    "#19. Convert a string to title case (e.g., \"hello world\" to \"Hello World\").\n",
    "string19A = \"Chandrayaan-3 is the third mission in the Chandrayaan programme.\"\n",
    "string19B = string19A.title()\n",
    "print(string19B)"
   ]
  },
  {
   "cell_type": "code",
   "execution_count": 67,
   "id": "c64016b6-619e-41e5-87f6-43ac081099d3",
   "metadata": {},
   "outputs": [
    {
     "name": "stdout",
     "output_type": "stream",
     "text": [
      "positive\n"
     ]
    }
   ],
   "source": [
    "#20. Find the longest word in a string.\n",
    "string20A = \"Just one small positive thought in the morning can change your whole day.\"\n",
    "string20B = string20A.split(\" \")\n",
    "string20C = ''\n",
    "\n",
    "for i in string20B:\n",
    "    if len(i) > len(string20C):\n",
    "        string20C = i\n",
    "print(string20C)        "
   ]
  },
  {
   "cell_type": "code",
   "execution_count": 3,
   "id": "0b234b4c-00d6-4ecb-aff1-edae244af987",
   "metadata": {},
   "outputs": [
    {
     "name": "stdout",
     "output_type": "stream",
     "text": [
      "in\n"
     ]
    }
   ],
   "source": [
    "#21. Find the shortest word in a string.\n",
    "string21A = \"Just one small positive thought in the morning can change your whole day.\"\n",
    "string21B = string21A.split(\" \")\n",
    "string21C = string21B[0]\n",
    "\n",
    "for i in string21B:\n",
    "   if len(string21C) > len(i):\n",
    "    string21C = i\n",
    "\n",
    "print(string21C)    "
   ]
  },
  {
   "cell_type": "code",
   "execution_count": 25,
   "id": "cf9f4d5b-d339-46ac-a96f-712127e8daf4",
   "metadata": {},
   "outputs": [
    {
     "name": "stdout",
     "output_type": "stream",
     "text": [
      "Life is Love \n"
     ]
    }
   ],
   "source": [
    "#22. Reverse the order of words in a string.\n",
    "string22A = \"Love is Life\"\n",
    "string22B = string22A.split(\" \")\n",
    "string22C = \"\"\n",
    "n22 = len(string22B)-1\n",
    "\n",
    "for i in range(n22,-1,-1):\n",
    "    string22C = string22C + string22B[i] + \" \"\n",
    "\n",
    "print(string22C)"
   ]
  },
  {
   "cell_type": "code",
   "execution_count": 49,
   "id": "5700f723-c4c0-47bd-b850-e9f40c575ada",
   "metadata": {},
   "outputs": [
    {
     "name": "stdout",
     "output_type": "stream",
     "text": [
      "Yes, Alphanumeric\n",
      "No, not Alphanumeric\n"
     ]
    }
   ],
   "source": [
    "#23. Check if a string is alphanumeric.\n",
    "string23A = \"Office365\"\n",
    "if string23A.isalnum():\n",
    "    print(\"Yes, Alphanumeric\")\n",
    "else:\n",
    "    print(\"No, not Alphanumeric\")\n",
    "    \n",
    "string23B = \"Microsoft Office\"\n",
    "string23C = string23B.split(\" \")\n",
    "count23 = 0\n",
    "\n",
    "for i in string23C:\n",
    "    if i.isalnum() and not i.isalpha():\n",
    "        count23 = count23 +1\n",
    "if count23 > 0:\n",
    "    print(\"Yes, Alphanumeric\")\n",
    "else:\n",
    "    print(\"No, not Alphanumeric\")"
   ]
  },
  {
   "cell_type": "code",
   "execution_count": 60,
   "id": "76e9eef9-0741-410a-bbc9-8889b0ea3b0a",
   "metadata": {},
   "outputs": [
    {
     "name": "stdout",
     "output_type": "stream",
     "text": [
      "2023 333 123 \n"
     ]
    }
   ],
   "source": [
    "#24. Extract all digits from a string.\n",
    "string24A = \"2023 is luckiest 333 year for me 123\"\n",
    "string24B = string24A.split(\" \")\n",
    "string24C = []\n",
    "string24D = \"\"\n",
    "\n",
    "for i in string24B:\n",
    "    if i.isnumeric():\n",
    "        string24C.append(int(i))\n",
    "for i in string24C:\n",
    "    string24D = string24D + str(i) + \" \"\n",
    "print(string24D)"
   ]
  },
  {
   "cell_type": "code",
   "execution_count": 61,
   "id": "30b164c6-1b90-4bb2-81d7-707ee58bd771",
   "metadata": {},
   "outputs": [
    {
     "name": "stdout",
     "output_type": "stream",
     "text": [
      "is luckiest year for me \n"
     ]
    }
   ],
   "source": [
    "#25. Extract all alphabets from a string.\n",
    "\n",
    "string25A = \"2023 is luckiest year for me\"\n",
    "string25B = string25A.split(\" \")\n",
    "string25D = \"\"\n",
    "\n",
    "for i in string25B:\n",
    "    if i.isalpha():\n",
    "        string25D = string25D + i + \" \"\n",
    "print(string25D)\n"
   ]
  },
  {
   "cell_type": "code",
   "execution_count": 65,
   "id": "ff1807f4-15ab-4bfb-9c03-c4aae5ff5fa9",
   "metadata": {},
   "outputs": [
    {
     "name": "stdout",
     "output_type": "stream",
     "text": [
      "3\n"
     ]
    }
   ],
   "source": [
    "#26. Count the number of uppercase letters in a string.\n",
    "string26A = \"Mistakes are the Growing pains of Wisdom.\"\n",
    "count26 = 0\n",
    "\n",
    "for i in string26A:\n",
    "    if i.isupper():\n",
    "        count26 = count26 + 1\n",
    "print(count26)"
   ]
  },
  {
   "cell_type": "code",
   "execution_count": 66,
   "id": "d5ff18ae-d64d-44cd-b7c9-8255627d34bf",
   "metadata": {},
   "outputs": [
    {
     "name": "stdout",
     "output_type": "stream",
     "text": [
      "31\n"
     ]
    }
   ],
   "source": [
    "#27. Count the number of lowercase letters in a string.\n",
    "string27A = \"Mistakes are the Growing pains of Wisdom.\"\n",
    "count27 = 0\n",
    "\n",
    "for i in string27A:\n",
    "    if i.islower():\n",
    "        count27 = count27 + 1\n",
    "print(count27)"
   ]
  },
  {
   "cell_type": "code",
   "execution_count": 68,
   "id": "1fd8bb66-be9a-4d3a-b39d-933e1d3e1a7d",
   "metadata": {},
   "outputs": [
    {
     "name": "stdout",
     "output_type": "stream",
     "text": [
      "mISTAKES ARE THE gROWING PAINS OF wISDOM.\n"
     ]
    }
   ],
   "source": [
    "#28. Swap the case of each character in a string.\n",
    "\n",
    "string28A = \"Mistakes are the Growing pains of Wisdom.\"\n",
    "string28B = string28A.swapcase()\n",
    "print(string28B)\n"
   ]
  },
  {
   "cell_type": "code",
   "execution_count": 76,
   "id": "abecc3e7-a827-49a4-bde0-a6e6b65c4f78",
   "metadata": {},
   "outputs": [
    {
     "name": "stdout",
     "output_type": "stream",
     "text": [
      "are the Growing pains of Wisdom.\n"
     ]
    }
   ],
   "source": [
    "#29. Remove a specific word from a string.\n",
    "\n",
    "string29A = \"Mistakes are the Growing pains of Wisdom.\"\n",
    "string29B = \"Mistakes\"\n",
    "\n",
    "string29C = string29A.replace(\"Mistakes \",\"\")\n",
    "print(string29C)\n"
   ]
  },
  {
   "cell_type": "code",
   "execution_count": 14,
   "id": "07fed541-7d99-4feb-a4e2-2f30afefb75e",
   "metadata": {},
   "outputs": [
    {
     "name": "stdout",
     "output_type": "stream",
     "text": [
      "Valid\n"
     ]
    }
   ],
   "source": [
    "#30. Check if a string is a valid email address.\n",
    "string30A = \"python.power@data.in\"\n",
    "string30B = string30A.split(\"@\")\n",
    "#invalid_char = [\"!\",\"#\",\"$\",\"^\",\"&\",\"*\",\")\",\"(\",\"-\",\"+\",\"=\",\"/\",\"~\",\"`\",\"?\",\"}\",\"\\\",\" \"]\n",
    "\n",
    "string30C = string30B[0]\n",
    "string30D = string30C.split(\".\")\n",
    "\n",
    "string30E = string30B[1]\n",
    "string30F = string30E.split(\".\")\n",
    "count30 = 0\n",
    "\n",
    "if len(string30B) == 2:\n",
    "    \n",
    "    if len(string30D) > 1:\n",
    "        if len(string30D[0])>1 and string30D[0].isalpha():\n",
    "            count30 = count30 + 1\n",
    "            \n",
    "    if len(string30F) > 1:\n",
    "        if len(string30F[1])>1 and string30F[1].isalpha():\n",
    "            count30 = count30 + 1\n",
    "\n",
    "    if count30 == 2:\n",
    "        print(\"Valid\")\n",
    "    else:\n",
    "        print(\"Invalid - inside\")\n",
    "else:\n",
    "    print(\"Invalid\")"
   ]
  },
  {
   "cell_type": "code",
   "execution_count": 15,
   "id": "a68083d2-73d0-4f16-9a76-0240dcea53a0",
   "metadata": {},
   "outputs": [
    {
     "name": "stdout",
     "output_type": "stream",
     "text": [
      "python.power\n"
     ]
    }
   ],
   "source": [
    "#31. Extract the username from an email address string.\n",
    "string31A = \"python.power@data.in\"\n",
    "string31B = string31A.split(\"@\")\n",
    "print(string31B[0])"
   ]
  },
  {
   "cell_type": "code",
   "execution_count": 16,
   "id": "27a4da62-79bd-445b-a3f4-1967213eea18",
   "metadata": {},
   "outputs": [
    {
     "name": "stdout",
     "output_type": "stream",
     "text": [
      "data.in\n"
     ]
    }
   ],
   "source": [
    "#32. Extract the domain name from an email address string.\n",
    "string32A = \"python.power@data.in\"\n",
    "string32B = string31A.split(\"@\")\n",
    "print(string31B[1])"
   ]
  },
  {
   "cell_type": "code",
   "execution_count": 30,
   "id": "497bb885-aa2d-4087-bb44-94468432426e",
   "metadata": {},
   "outputs": [
    {
     "name": "stdout",
     "output_type": "stream",
     "text": [
      "['Quality', 'is', '', '', '', '', 'not', 'an', 'act,', 'it', 'is', 'a', '', '', '', '', '', '', '', '', 'habit.']\n",
      "Quality is not an act, it is a habit. \n"
     ]
    }
   ],
   "source": [
    "#33. Replace multiple spaces in a string with a single space.\n",
    "string33A = \"Quality is     not an act, it is a         habit.\"\n",
    "string33B = string33A.split(\" \")\n",
    "print(string33B)\n",
    "\n",
    "string33C = \"\"\n",
    "\n",
    "count33 = 0\n",
    "for i in string33B:\n",
    "    if i != \"\":\n",
    "        string33C = string33C + i + \" \"\n",
    "\n",
    "print(string33C)"
   ]
  },
  {
   "cell_type": "code",
   "execution_count": 17,
   "id": "ae8e411d-222f-43f8-b638-b6743c0ac479",
   "metadata": {},
   "outputs": [
    {
     "name": "stdout",
     "output_type": "stream",
     "text": [
      "Invalid URL 2\n"
     ]
    }
   ],
   "source": [
    "#34. Check if a string is a valid URL.\n",
    "string34A = \"https://www.google.com\"\n",
    "string34B = \"//\"\n",
    "string34C = string34A.split(string34B)\n",
    "#print(\"string34C\",string34C)\n",
    "\n",
    "if (string34C[0] != \"http:\") and (string34C[0] != \"https:\"):\n",
    "    print(\"Invalid URL 1\")\n",
    "else: \n",
    "    string34D = string34C[1].split(\".\")\n",
    "    #print(\"string34D\",string34D)\n",
    "    \n",
    "    if (len(string34D) != 3) or (string34D[0] !=\"www\"):\n",
    "        print(\"Invalid URL 2\")\n",
    "    else:\n",
    "        print(\"Valid URL\")\n"
   ]
  },
  {
   "cell_type": "code",
   "execution_count": 40,
   "id": "93f9607d-7897-4253-8717-149c57f99677",
   "metadata": {},
   "outputs": [
    {
     "name": "stdout",
     "output_type": "stream",
     "text": [
      "Protocol http:\n"
     ]
    }
   ],
   "source": [
    "#35. Extract the protocol (http or https) from a URL string.\n",
    "string35A = \"http://www.google.com\"\n",
    "string35B = \"//\"\n",
    "string35C = string35A.split(string35B)\n",
    "print(\"Protocol\",string35C[0])"
   ]
  },
  {
   "cell_type": "code",
   "execution_count": 39,
   "id": "938db1e3-86e5-49fe-917b-6150a4fc562a",
   "metadata": {},
   "outputs": [
    {
     "name": "stdout",
     "output_type": "stream",
     "text": [
      "string36C ['Time', 'after', 'time', 'and', 'Time', 'after', 'time', 'and', 'everyone', 'should', 'be', 'on', 'time']\n",
      "Frequency of word time is 5\n"
     ]
    }
   ],
   "source": [
    "#36. Find the frequency of each character in a string.\n",
    "string36A = \"Time after time and Time after time and everyone should be on time\"\n",
    "string36B = \"time\"\n",
    "\n",
    "string36C = string36A.split(\" \")\n",
    "count36 = 0\n",
    "print(\"string36C\",string36C)\n",
    "\n",
    "for i in string36C:\n",
    "    i=i.lower()\n",
    "    if i == string36B:\n",
    "        count36 = count36 + 1\n",
    "print(\"Frequency of word\",string36B, \"is\",count36)        \n",
    "    \n"
   ]
  },
  {
   "cell_type": "code",
   "execution_count": 25,
   "id": "f27bce23-ce21-49a8-adc8-c7453e388db3",
   "metadata": {},
   "outputs": [
    {
     "name": "stdout",
     "output_type": "stream",
     "text": [
      "Time after time and Time after time and everyone should be on time\n"
     ]
    }
   ],
   "source": [
    "#37. Remove all punctuation from a string.\n",
    "string37A = \"Time after time@, and Time after time$, and everyone should be on time!\"\n",
    "string37B = \", : ! - . ' ; & _ { [ } ] / * ^ % $ # @ ` ~\"\n",
    "string37D = string37B.split(\" \")\n",
    "\n",
    "for x in string37D:\n",
    "    string37A = string37A.replace(x,\"\")\n",
    "\n",
    "print(string37A)"
   ]
  },
  {
   "cell_type": "code",
   "execution_count": 34,
   "id": "8a2e1170-8575-41fa-aca4-5ea5a91cc806",
   "metadata": {},
   "outputs": [
    {
     "data": {
      "text/plain": [
       "True"
      ]
     },
     "execution_count": 34,
     "metadata": {},
     "output_type": "execute_result"
    }
   ],
   "source": [
    "#38. Check if a string contains only digits.\n",
    "string38A = \"12453456\"\n",
    "string38A.isdigit()\n"
   ]
  },
  {
   "cell_type": "code",
   "execution_count": 36,
   "id": "2b7e779c-a324-49f9-9773-7fdecff47873",
   "metadata": {},
   "outputs": [
    {
     "data": {
      "text/plain": [
       "True"
      ]
     },
     "execution_count": 36,
     "metadata": {},
     "output_type": "execute_result"
    }
   ],
   "source": [
    "#39. Check if a string contains only alphabets.\n",
    "string39A = \"Alphabetsonly\"\n",
    "string39A.isalpha()"
   ]
  },
  {
   "cell_type": "code",
   "execution_count": 37,
   "id": "ecd2d116-0511-456d-b364-10fd4fc66346",
   "metadata": {},
   "outputs": [
    {
     "name": "stdout",
     "output_type": "stream",
     "text": [
      "['L', 'i', 'f', 'e', ' ', 'i', 's', ' ', 'a', ' ', 'l', 'o', 'n', 'g', ' ', 'l', 'e', 's', 's', 'o', 'n', ' ', 'i', 'n', ' ', 'h', 'u', 'm', 'i', 'l', 'i', 't', 'y', '.']\n"
     ]
    }
   ],
   "source": [
    "#40. Convert a string to a list of characters.\n",
    "string40A = \"Life is a long lesson in humility.\"\n",
    "list_40A = list(string40A)\n",
    "print(list_40A)"
   ]
  },
  {
   "cell_type": "code",
   "execution_count": 42,
   "id": "25aaa216-1d0b-4532-9bfa-026defb2b68d",
   "metadata": {},
   "outputs": [
    {
     "name": "stdout",
     "output_type": "stream",
     "text": [
      "Not Anagrams\n"
     ]
    }
   ],
   "source": [
    "#41. Check if two strings are anagrams.\n",
    "string41A = \"Apple\"\n",
    "string41B = \"EpplA\"\n",
    "\n",
    "if (len(string41A) == len(string41B)):\n",
    "    s41A = string41A.lower()\n",
    "    s41B = string41B.lower()\n",
    "    \n",
    "    sorted_41A = sorted(s41A)\n",
    "    sorted_41B = sorted(s41B)\n",
    "    \n",
    "    print(\"A : \",sorted_41A)\n",
    "    print(\"B : \",sorted_41B)\n",
    "    \n",
    "    if (sorted_41A == sorted_41B):\n",
    "        print('Anagrams')\n",
    "    else:\n",
    "        print('Not Anagrams')\n",
    "else:\n",
    "        print('Not Anagrams')        "
   ]
  },
  {
   "cell_type": "code",
   "execution_count": 12,
   "id": "f26cb0f7-39b4-496f-bf3a-750ef4b8edef",
   "metadata": {},
   "outputs": [
    {
     "name": "stdout",
     "output_type": "stream",
     "text": [
      "['D', 'E', 'F']\n"
     ]
    }
   ],
   "source": [
    "#42. Encode a string using a Caesar cipher.\n",
    "string42A = \"ABC\"\n",
    "int_shift_by = 2\n",
    "string42_alphabets = ['A','B','C','D','E','F','G','H','I','J','K','L','M','N','O','P','Q','R','S','T','U','V','W','X','Y','Z']\n",
    "string42A = list(string42A)\n",
    "string42B = []\n",
    "\n",
    "for j in string42A:\n",
    "    count42=0\n",
    "    #print(j, end=\" \")\n",
    "    for i in string42_alphabets:\n",
    "        count42 = count42 + 1\n",
    "        if i == j:\n",
    "            #print(count42)\n",
    "            c = count42 + int_shift_by\n",
    "            if c >= 26:\n",
    "                count42 = 0\n",
    "                c = count42 + int_shift_by\n",
    "            string42B.append(string42_alphabets[c])\n",
    "\n",
    "print(string42B)"
   ]
  },
  {
   "cell_type": "code",
   "execution_count": 32,
   "id": "5ea3efe6-8783-4ac1-8ad7-1cf550cf57ac",
   "metadata": {},
   "outputs": [
    {
     "name": "stdout",
     "output_type": "stream",
     "text": [
      "['Y', 'Z', 'A']\n"
     ]
    }
   ],
   "source": [
    "#43. Decode a Caesar cipher encoded string.\n",
    "string43A = \"ABC\"\n",
    "int_shift_by = 2\n",
    "string43_alphabets = ['A','B','C','D','E','F','G','H','I','J','K','L','M','N','O','P','Q','R','S','T','U','V','W','X','Y','Z']\n",
    "string43A = list(string43A)\n",
    "string43B = []\n",
    "\n",
    "for j in string43A:\n",
    "    count43=0\n",
    "    #print(j, end=\" \")\n",
    "    for i in string43_alphabets:\n",
    "        count43 = count43 + 1\n",
    "        if i == j:\n",
    "            #print(count43)\n",
    "            c = count43 - (int_shift_by+1)\n",
    "            if c >= 26:\n",
    "                count43 = 0\n",
    "                c = count43 - (int_shift_by+1)\n",
    "            string43B.append(string43_alphabets[c])\n",
    "\n",
    "print(string43B)"
   ]
  },
  {
   "cell_type": "code",
   "execution_count": 30,
   "id": "72f9e43c-4a45-41e7-9888-727e6f3f9d44",
   "metadata": {},
   "outputs": [
    {
     "name": "stdout",
     "output_type": "stream",
     "text": [
      "i\n"
     ]
    }
   ],
   "source": [
    "#44. Find the most frequent word in a string.\n",
    "string44A = \"I had a lot of money in the bank. I lend some money . She advised him to take the money . Money got doubled in a month.\"\n",
    "string44A = string44A.lower()\n",
    "list44A = list(string44A.split(\" \"))\n",
    "max_count44 = 0\n",
    "max_word = \"\"\n",
    "\n",
    "\n",
    "for i in list44A:\n",
    "    list44B = []\n",
    "    for j in list44A:\n",
    "        if i == j:\n",
    "            list44B.append(i)            \n",
    "        if len(list44B) > max_count44:\n",
    "            max_count44 = len(list44B)\n",
    "            max_word= i\n",
    "            \n",
    "print(max_word) \n"
   ]
  },
  {
   "cell_type": "code",
   "execution_count": 49,
   "id": "fdb51825-57cb-455e-995d-e49df924533b",
   "metadata": {},
   "outputs": [
    {
     "name": "stdout",
     "output_type": "stream",
     "text": [
      "a  advised  bank  doubled  got  had  him  i  in  lend  lot  money  month  of  she  some  take  the  to  "
     ]
    }
   ],
   "source": [
    "#45. Find all unique words in a string.\n",
    "\n",
    "string45A = \"I had a lot of money in the bank I lend some money She advised him to take the money Money got doubled in a month\"\n",
    "string45A = string45A.lower()\n",
    "set_45A = set(string45A.split(\" \"))\n",
    "list_45A = list(set_45A)\n",
    "list_45A.sort()\n",
    "\n",
    "for i in list_45A:\n",
    "    print(i,\"\",end=\" \")\n",
    "\n"
   ]
  },
  {
   "cell_type": "code",
   "execution_count": null,
   "id": "31041ca4-ab67-4e8f-93a7-01a85e40f6d6",
   "metadata": {},
   "outputs": [],
   "source": [
    "#46. Count the number of syllables in a string.\n",
    "string46A = \"Book\"\n",
    "string46B = string46A.lower()\n",
    "\n"
   ]
  },
  {
   "cell_type": "code",
   "execution_count": 1,
   "id": "cf6edc52-e8dd-4e12-a0be-0ea70bd535a7",
   "metadata": {},
   "outputs": [
    {
     "name": "stdout",
     "output_type": "stream",
     "text": [
      "Yes special character in a string\n"
     ]
    }
   ],
   "source": [
    "#47. Check if a string contains any special characters.\n",
    "#Unable to solve\n",
    "string47A = \"He11ls\"\n",
    "string47B = list(string47A)\n",
    "#special_char = [\"!\",\"#\",\"$\",\"^\",\"&\",\"*\",\")\",\"(\",\"-\",\"+\",\"=\",\"/\",\"~\",\"`\",\"?\"]\n",
    "#special_char = \"!,#,$,^,&,*,),(,-,+,=,/,~,`,?,},\\'\"\n",
    "string47C = ['A','B','C','D','E','F','G','H','I','J','K','L','M','N','O','P','Q','R','S','T','U','V','W','X','Y','Z',1,2,3,4,5,6,7,8,9,0]\n",
    "count47 = 0\n",
    "\n",
    "for i in string47C:\n",
    "    for j in string47A:\n",
    "        #print(\"j: \",j)\n",
    "        if i != j:\n",
    "            count47 = count47 + 1\n",
    "\n",
    "if count47 > 0:\n",
    "    print(\"Yes special character in a string\")\n",
    "else:\n",
    "    print(\"No special character in a string\")"
   ]
  },
  {
   "cell_type": "code",
   "execution_count": 19,
   "id": "6346d8d4-bafd-4427-9b15-1e75241fb392",
   "metadata": {},
   "outputs": [
    {
     "data": {
      "text/plain": [
       "'Sgapore'"
      ]
     },
     "execution_count": 19,
     "metadata": {},
     "output_type": "execute_result"
    }
   ],
   "source": [
    "# 48. Remove the nth word from a string.\n",
    "string48A = \"Singapore\"\n",
    "n = 2\n",
    "string48B = string48A[:n-1] + string48A[n+1:]\n",
    "\n",
    "string48B"
   ]
  },
  {
   "cell_type": "code",
   "execution_count": 22,
   "id": "c2d3dda5-ace2-4c00-b853-27754da074b4",
   "metadata": {},
   "outputs": [
    {
     "data": {
      "text/plain": [
       "'USNNNA'"
      ]
     },
     "execution_count": 22,
     "metadata": {},
     "output_type": "execute_result"
    }
   ],
   "source": [
    "#49. Insert a word at the nth position in a string.\n",
    "string49A = \"USA\"\n",
    "n=2\n",
    "\n",
    "string49B = string49A[:n] + \"NNN\" + string49A[n:]\n",
    "string49B"
   ]
  },
  {
   "cell_type": "code",
   "execution_count": 23,
   "id": "c9fb0beb-e5df-43e0-ae44-5287a43293ef",
   "metadata": {},
   "outputs": [
    {
     "data": {
      "text/plain": [
       "['Happiness is having morning coffee',\n",
       " ' playing with your pet',\n",
       " ' dancing',\n",
       " ' jogging',\n",
       " ' cooking',\n",
       " ' studying']"
      ]
     },
     "execution_count": 23,
     "metadata": {},
     "output_type": "execute_result"
    }
   ],
   "source": [
    "#50. Convert a CSV string to a list of lists.\n",
    "string50A = \"Happiness is having morning coffee, playing with your pet, dancing, jogging, cooking, studying\"\n",
    "string50B = string50A.split(\",\") \n",
    "string50B"
   ]
  },
  {
   "cell_type": "code",
   "execution_count": null,
   "id": "a2591e8b-e6d8-4a01-a698-85485a0e8fe3",
   "metadata": {},
   "outputs": [],
   "source": []
  },
  {
   "cell_type": "code",
   "execution_count": null,
   "id": "4aabfa1e-af9c-4b1e-ad9d-1c2ddf6680a6",
   "metadata": {},
   "outputs": [],
   "source": []
  },
  {
   "cell_type": "code",
   "execution_count": null,
   "id": "9b647d8c-0215-4a16-b912-4a47c594f630",
   "metadata": {},
   "outputs": [],
   "source": [
    "#List Based Practice Problem :"
   ]
  },
  {
   "cell_type": "code",
   "execution_count": null,
   "id": "69b45245-a599-492b-bf2a-10b9f5c28667",
   "metadata": {},
   "outputs": [],
   "source": []
  },
  {
   "cell_type": "code",
   "execution_count": null,
   "id": "26cfa14e-6907-4793-b26c-2af65c469cbd",
   "metadata": {},
   "outputs": [],
   "source": []
  },
  {
   "cell_type": "code",
   "execution_count": 24,
   "id": "a5e6596a-da38-479c-86c9-3efa52daa0a6",
   "metadata": {},
   "outputs": [
    {
     "name": "stdout",
     "output_type": "stream",
     "text": [
      "[1, 2, 3, 4, 5, 6, 7, 8, 9, 10, 0, 1, 2, 3, 4, 5, 6, 7, 8, 9]\n"
     ]
    }
   ],
   "source": [
    "#1. Create a list with integers from 1 to 10.\n",
    "#list1 = [1,2,3,4,5,6,7,8,9,10]\n",
    "\n",
    "for i in range(10):\n",
    "    list1.append(i)\n",
    "\n",
    "print(list1)    "
   ]
  },
  {
   "cell_type": "code",
   "execution_count": 25,
   "id": "cf979ba8-a250-494e-9393-f0dc3b64c8ae",
   "metadata": {},
   "outputs": [
    {
     "name": "stdout",
     "output_type": "stream",
     "text": [
      "The length of the list is 10\n"
     ]
    }
   ],
   "source": [
    "#2. Find the length of a list without using the `len()` function.\n",
    "\n",
    "count2A = 0\n",
    "list2A = [1,2,3,4,5,6,7,8,9,10]\n",
    "\n",
    "for i in list2A:\n",
    "    count2A = count2A + 1\n",
    "\n",
    "print(\"The length of the list is\",count2A)  "
   ]
  },
  {
   "cell_type": "code",
   "execution_count": 26,
   "id": "308a8588-e99f-4155-824e-39ad85185b45",
   "metadata": {},
   "outputs": [
    {
     "data": {
      "text/plain": [
       "[1, 2, 3, 4, 5, 6, 7, 8, 9, 10]"
      ]
     },
     "execution_count": 26,
     "metadata": {},
     "output_type": "execute_result"
    }
   ],
   "source": [
    "#3. Append an element to the end of a list.\n",
    "list3A = [1,2,3,4,5,6,7,8,9]\n",
    "\n",
    "list3A.append(10)\n",
    "list3A"
   ]
  },
  {
   "cell_type": "code",
   "execution_count": 31,
   "id": "8565143e-3c55-449b-90fa-c6180ae775d9",
   "metadata": {},
   "outputs": [
    {
     "data": {
      "text/plain": [
       "[1, 2, 3, 4, 5, 6, 7, 8, 9, 10]"
      ]
     },
     "execution_count": 31,
     "metadata": {},
     "output_type": "execute_result"
    }
   ],
   "source": [
    "#4. Insert an element at a specific index in a list.\n",
    "\n",
    "list4A = [1,2,3,4,5,6,7,8,10]\n",
    "list4A.insert(8,9)\n",
    "list4A"
   ]
  },
  {
   "cell_type": "code",
   "execution_count": 33,
   "id": "3cdb1ea6-a00b-4729-80af-8a5621fead86",
   "metadata": {},
   "outputs": [
    {
     "data": {
      "text/plain": [
       "[1, 2, 3, 5, 6, 7, 8, 10]"
      ]
     },
     "execution_count": 33,
     "metadata": {},
     "output_type": "execute_result"
    }
   ],
   "source": [
    "#5. Remove an element from a list by its value.\n",
    "list5A = [1,2,3,4,5,6,7,8,10]\n",
    "list5A.remove(4)\n",
    "list5A\n"
   ]
  },
  {
   "cell_type": "code",
   "execution_count": 34,
   "id": "44168f18-f79f-4885-ae4b-58c9c01db01f",
   "metadata": {},
   "outputs": [
    {
     "data": {
      "text/plain": [
       "[1, 2, 3, 4, 6, 7, 8, 10]"
      ]
     },
     "execution_count": 34,
     "metadata": {},
     "output_type": "execute_result"
    }
   ],
   "source": [
    "#6. Remove an element from a list by its index.\n",
    "list6A = [1,2,3,4,5,6,7,8,10]\n",
    "list6A.pop(4)\n",
    "list6A"
   ]
  },
  {
   "cell_type": "code",
   "execution_count": 36,
   "id": "e1d50a7b-7d3a-4ee7-a34b-1a5696687622",
   "metadata": {},
   "outputs": [
    {
     "name": "stdout",
     "output_type": "stream",
     "text": [
      "99 Not Found\n",
      "22 Found\n"
     ]
    }
   ],
   "source": [
    "#7. Check if an element exists in a list.\n",
    "\n",
    "list6A = [11,22,33,44,55,66,77,88,100]\n",
    "\n",
    "if 99 in list6A:\n",
    "    print(\"99 Found\")\n",
    "else:\n",
    "    print(\"99 Not Found\")\n",
    "\n",
    "\n",
    "if 22 in list6A:\n",
    "    print(\"22 Found\")\n",
    "else:\n",
    "    print(\"22 Not Found\")    \n"
   ]
  },
  {
   "cell_type": "code",
   "execution_count": 48,
   "id": "09ed0874-3940-4866-837f-467c0c36140c",
   "metadata": {},
   "outputs": [
    {
     "name": "stdout",
     "output_type": "stream",
     "text": [
      "['you', 'know', 'new', 'york', 'you', 'need', 'new', 'york', 'you', 'know', 'you', 'need', 'unique', 'new', 'york']\n",
      "The index of first occurance of New is 2\n"
     ]
    }
   ],
   "source": [
    "#8. Find the index of the first occurrence of an element in a list.\n",
    "\n",
    "string_L8A = \"You know New York, you need New York, you know you need unique New York.\"\n",
    "string_L8A = string_L8A.lower()\n",
    "string_L8A = string_L8A.replace(\",\",\"\")\n",
    "string_L8A = string_L8A.replace(\".\",\"\")\n",
    "list8A = string_L8A.split(\" \")\n",
    "print(list8A)\n",
    "word8A = \"new\"\n",
    "count8A = 0\n",
    "count8B = 0\n",
    "count8C = 0\n",
    "\n",
    "for i in list8A:\n",
    "    count8A = count8A + 1\n",
    "    if i == word8A:\n",
    "        if count8B == 0:\n",
    "            count8C = count8A - 1\n",
    "            count8B = count8B + 1\n",
    "        \n",
    "print(\"The index of first occurance of New is\", count8C)\n",
    "\n"
   ]
  },
  {
   "cell_type": "code",
   "execution_count": 47,
   "id": "4647709f-a815-472d-ad97-c0ed4efb6ad1",
   "metadata": {},
   "outputs": [
    {
     "name": "stdout",
     "output_type": "stream",
     "text": [
      "['you', 'know', 'new', 'york', 'you', 'need', 'new', 'york', 'you', 'know', 'you', 'need', 'unique', 'new', 'york']\n",
      "The index of first occurance of New is 3\n"
     ]
    }
   ],
   "source": [
    "#9. Count the occurrences of an element in a list.\n",
    "\n",
    "string_L9A = \"You know New York, you need New York, you know you need unique New York.\"\n",
    "string_L9A = string_L9A.lower()\n",
    "string_L9A = string_L9A.replace(\",\",\"\")\n",
    "string_L9A = string_L9A.replace(\".\",\"\")\n",
    "list9A = string_L9A.split(\" \")\n",
    "print(list9A)\n",
    "word9A = \"york\"\n",
    "count9A = 0\n",
    "\n",
    "\n",
    "for i in list9A:\n",
    "    if i == word9A:\n",
    "        count9A = count9A + 1\n",
    "        \n",
    "print(\"The index of first occurance of New is\", count9A)"
   ]
  },
  {
   "cell_type": "code",
   "execution_count": 49,
   "id": "c2592c95-f2c5-4f97-b1fb-fe5cbcfcd09d",
   "metadata": {},
   "outputs": [
    {
     "data": {
      "text/plain": [
       "[10, 8, 7, 6, 5, 4, 3, 2, 1]"
      ]
     },
     "execution_count": 49,
     "metadata": {},
     "output_type": "execute_result"
    }
   ],
   "source": [
    "#10. Reverse the order of elements in a list.\n",
    "list10A = [1,2,3,4,5,6,7,8,10]\n",
    "list10B = list10A[::-1]\n",
    "list10B"
   ]
  },
  {
   "cell_type": "code",
   "execution_count": 50,
   "id": "eee78f95-fc1e-41ae-9f3c-11260949dc54",
   "metadata": {},
   "outputs": [
    {
     "data": {
      "text/plain": [
       "[2, 4, 5, 10, 11, 16, 33, 37, 78]"
      ]
     },
     "execution_count": 50,
     "metadata": {},
     "output_type": "execute_result"
    }
   ],
   "source": [
    "#11. Sort a list in ascending order.\n",
    "list11A = [11,2,33,4,5,16,37,78,10]\n",
    "list11A.sort()\n",
    "list11A"
   ]
  },
  {
   "cell_type": "code",
   "execution_count": 51,
   "id": "31977769-6d74-4e02-815d-55b3b63b4256",
   "metadata": {},
   "outputs": [
    {
     "data": {
      "text/plain": [
       "[78, 37, 33, 16, 11, 10, 5, 4, 2]"
      ]
     },
     "execution_count": 51,
     "metadata": {},
     "output_type": "execute_result"
    }
   ],
   "source": [
    "#12. Sort a list in descending order.\n",
    "list12A = [11,2,33,4,5,16,37,78,10]\n",
    "list12A.sort(reverse=True)\n",
    "list12A"
   ]
  },
  {
   "cell_type": "code",
   "execution_count": 53,
   "id": "5fca2ce1-5204-4cbf-8250-6b645d74fb82",
   "metadata": {},
   "outputs": [
    {
     "name": "stdout",
     "output_type": "stream",
     "text": [
      "[2, 4, 6, 8, 10, 12, 14, 16, 18]\n"
     ]
    }
   ],
   "source": [
    "#13. Create a list of even numbers from 1 to 20.\n",
    "list13A = []\n",
    "for i in range(1,20):\n",
    "    if i % 2 == 0:\n",
    "        list13A.append(i)\n",
    "print(list13A)        "
   ]
  },
  {
   "cell_type": "code",
   "execution_count": 54,
   "id": "cd8a5708-2ad3-4232-ad10-97ea5c526b92",
   "metadata": {},
   "outputs": [
    {
     "name": "stdout",
     "output_type": "stream",
     "text": [
      "[1, 3, 5, 7, 9, 11, 13, 15, 17, 19]\n"
     ]
    }
   ],
   "source": [
    "#14. Create a list of odd numbers from 1 to 20.\n",
    "list14A = []\n",
    "for i in range(1,20):\n",
    "    if i % 2 != 0:\n",
    "        list14A.append(i)\n",
    "print(list14A)\n"
   ]
  },
  {
   "cell_type": "code",
   "execution_count": 55,
   "id": "aa8dd291-106e-42ad-838c-4e2d07d04246",
   "metadata": {},
   "outputs": [
    {
     "name": "stdout",
     "output_type": "stream",
     "text": [
      "The sum of  [10, 20, 30, 10, 20, 30] is 120\n"
     ]
    }
   ],
   "source": [
    "#15. Find the sum of all elements in a list.\n",
    "list15A = [10,20,30,10,20,30]\n",
    "sum15A = 0\n",
    "for i in list15A:\n",
    "    sum15A = sum15A + i\n",
    "print(\"The sum of \",list15A,\"is\",sum15A)\n"
   ]
  },
  {
   "cell_type": "code",
   "execution_count": 57,
   "id": "d03e807e-32d1-45bd-bf6c-316d8fc67865",
   "metadata": {},
   "outputs": [
    {
     "name": "stdout",
     "output_type": "stream",
     "text": [
      "30\n"
     ]
    }
   ],
   "source": [
    "#16. Find the maximum value in a list.\n",
    "list16A = [10,20,30,10,20,30]\n",
    "max16A = max(list16A)\n",
    "print(max16A)"
   ]
  },
  {
   "cell_type": "code",
   "execution_count": 59,
   "id": "c93264bd-68fe-410d-a752-60ce73d45617",
   "metadata": {},
   "outputs": [
    {
     "name": "stdout",
     "output_type": "stream",
     "text": [
      "10\n"
     ]
    }
   ],
   "source": [
    "#17. Find the minimum value in a list.\n",
    "list17A = [10,20,30,10,20,30]\n",
    "min17A = min(list17A)\n",
    "print(min17A)\n",
    "\n",
    "#19. Create a list of random numbers."
   ]
  },
  {
   "cell_type": "code",
   "execution_count": 63,
   "id": "fed3728b-47a5-4d8b-a4a0-f08f54a1c1bd",
   "metadata": {},
   "outputs": [
    {
     "name": "stdout",
     "output_type": "stream",
     "text": [
      "[1, 4, 9, 16, 25, 36, 49, 64, 81, 100]\n"
     ]
    }
   ],
   "source": [
    "#18. Create a list of squares of numbers from 1 to 10.\n",
    "list18A = []\n",
    "\n",
    "for i in range(1,11):\n",
    "    sqr = i * i\n",
    "    list18A.append(sqr)\n",
    "\n",
    "print(list18A)    "
   ]
  },
  {
   "cell_type": "code",
   "execution_count": 68,
   "id": "80036ae8-1e1a-45fa-8cc7-18bc40ed9dfe",
   "metadata": {},
   "outputs": [
    {
     "name": "stdout",
     "output_type": "stream",
     "text": [
      "[3, 7, 3, 5, 6, 7, 3, 3, 6, 5]\n"
     ]
    }
   ],
   "source": [
    "#19. Create a list of random numbers.\n",
    "import random\n",
    "list19A = []\n",
    "for i in range(1,11):\n",
    "    r = random.randint(3,7)\n",
    "    list19A.append(r)\n",
    "\n",
    "print(list19A) \n"
   ]
  },
  {
   "cell_type": "code",
   "execution_count": 12,
   "id": "eab43d20-6f81-4042-af00-451f2ea75b48",
   "metadata": {},
   "outputs": [
    {
     "name": "stdout",
     "output_type": "stream",
     "text": [
      "[10, 20, 30]\n"
     ]
    }
   ],
   "source": [
    "#20. Remove duplicates from a list.\n",
    "list20A = [10,20,30,10,20,30]\n",
    "set20= set(list20A)\n",
    "list20A.clear()\n",
    "\n",
    "for i in set20:\n",
    "    list20A.append(i)\n",
    "print(list20A)\n"
   ]
  },
  {
   "cell_type": "code",
   "execution_count": 13,
   "id": "ff2a290c-afbc-48fb-b130-4f342c05ea5e",
   "metadata": {},
   "outputs": [
    {
     "data": {
      "text/plain": [
       "{10, 20, 30}"
      ]
     },
     "execution_count": 13,
     "metadata": {},
     "output_type": "execute_result"
    }
   ],
   "source": [
    "#21. Find the common elements between two lists.\n",
    "\n",
    "list21A = [10,20,30,10,20,30]\n",
    "list21B = [10,50,80,10,20,30]\n",
    "list21C = []\n",
    "\n",
    "for i in list21A:\n",
    "    for j in list21B:\n",
    "        if i == j:\n",
    "            list21C.append(i)\n",
    "\n",
    "set21A = set(list21C)\n",
    "set21A"
   ]
  },
  {
   "cell_type": "code",
   "execution_count": 23,
   "id": "826298be-f017-4c23-accf-80dde3457b91",
   "metadata": {},
   "outputs": [
    {
     "data": {
      "text/plain": [
       "{50, 80}"
      ]
     },
     "execution_count": 23,
     "metadata": {},
     "output_type": "execute_result"
    }
   ],
   "source": [
    "#22. Find the difference between two lists.\n",
    "\n",
    "list22A = [10,20,30,10,20,30]\n",
    "list22B = [10,50,80,10,20,30]\n",
    "\n",
    "set22A = set(list22A)\n",
    "set22B = set(list22B)\n",
    "\n",
    "set22A = set22B - set22A\n",
    "set22A"
   ]
  },
  {
   "cell_type": "code",
   "execution_count": 25,
   "id": "fd543b07-6656-4deb-ac53-7308a67f9f40",
   "metadata": {},
   "outputs": [
    {
     "data": {
      "text/plain": [
       "{10, 20, 30, 50, 80}"
      ]
     },
     "execution_count": 25,
     "metadata": {},
     "output_type": "execute_result"
    }
   ],
   "source": [
    "#23. Merge two lists.\n",
    "\n",
    "list23A = [10,20,30,10,20,30]\n",
    "list23B = [10,50,80,10,20,30]\n",
    "\n",
    "set23A = set(list23A)\n",
    "set23B = set(list23B)\n",
    "\n",
    "set23A = set23A.union(set23B)\n",
    "set23A\n"
   ]
  },
  {
   "cell_type": "code",
   "execution_count": 27,
   "id": "b4c54b82-5413-45be-94ad-3ee1d9e1b5c1",
   "metadata": {},
   "outputs": [
    {
     "data": {
      "text/plain": [
       "[20, 40, 60, 20, 40, 60]"
      ]
     },
     "execution_count": 27,
     "metadata": {},
     "output_type": "execute_result"
    }
   ],
   "source": [
    "#24. Multiply all elements in a list by 2.\n",
    "\n",
    "list24A = [10,20,30,10,20,30]\n",
    "list24B = [i*2 for i in list24A]\n",
    "list24B"
   ]
  },
  {
   "cell_type": "code",
   "execution_count": 28,
   "id": "e3e8eaa4-6540-4344-aeb6-b188880d5d06",
   "metadata": {},
   "outputs": [
    {
     "data": {
      "text/plain": [
       "[2, 4, 6, 8, 16, 478]"
      ]
     },
     "execution_count": 28,
     "metadata": {},
     "output_type": "execute_result"
    }
   ],
   "source": [
    "#25. Filter out all even numbers from a list.\n",
    "\n",
    "list25A = [1,2,3,4,5,6,7,8,9,11,16,478,49,333,999]\n",
    "list25B = [i for i in list25A if i%2==0]\n",
    "list25B"
   ]
  },
  {
   "cell_type": "code",
   "execution_count": 31,
   "id": "592abef3-4240-459a-ab3b-e1a39a00592a",
   "metadata": {},
   "outputs": [
    {
     "data": {
      "text/plain": [
       "[10, 20, 30, 10, 20, 30]"
      ]
     },
     "execution_count": 31,
     "metadata": {},
     "output_type": "execute_result"
    }
   ],
   "source": [
    "#26. Convert a list of strings to a list of integers.\n",
    "list26A = ['10','20','30','10','20','30']\n",
    "list26B = [int(x) for x in list26A]\n",
    "list26B"
   ]
  },
  {
   "cell_type": "code",
   "execution_count": 32,
   "id": "c129bd5e-d329-4395-a5f9-77ce1c8e8d24",
   "metadata": {},
   "outputs": [
    {
     "data": {
      "text/plain": [
       "['10', '20', '30', '10', '20', '30']"
      ]
     },
     "execution_count": 32,
     "metadata": {},
     "output_type": "execute_result"
    }
   ],
   "source": [
    "#27. Convert a list of integers to a list of strings.\n",
    "\n",
    "list27A = [10, 20, 30, 10, 20, 30]\n",
    "list27B = [str(x) for x in list27A]\n",
    "list27B"
   ]
  },
  {
   "cell_type": "code",
   "execution_count": 42,
   "id": "66a9e89f-3e4f-4ef1-be29-29eb64d8b3f2",
   "metadata": {},
   "outputs": [
    {
     "data": {
      "text/plain": [
       "[1, 3, 2, 3, 4, 5, 6]"
      ]
     },
     "execution_count": 42,
     "metadata": {},
     "output_type": "execute_result"
    }
   ],
   "source": [
    "#28. Flatten a nested list.\n",
    "\n",
    "list28A = [[1], 3, [2, 3], [4, 5, 6]]\n",
    "list28B = []\n",
    "for i in list28A:\n",
    "    if isinstance(i, list):\n",
    "        for j in i:\n",
    "            list28B.append(j)\n",
    "    else:\n",
    "        list28B.append(i)\n",
    "\n",
    "list28B  "
   ]
  },
  {
   "cell_type": "code",
   "execution_count": 43,
   "id": "38d82d4d-1bd5-4f5d-af58-b5f29fc6b6b7",
   "metadata": {},
   "outputs": [
    {
     "data": {
      "text/plain": [
       "[0, 1, 1, 2, 3, 5, 8, 13, 21, 34, 55]"
      ]
     },
     "execution_count": 43,
     "metadata": {},
     "output_type": "execute_result"
    }
   ],
   "source": [
    "#29. Create a list of the first 10 Fibonacci numbers.\n",
    "#0, 1, 1, 2, 3, 5, 8, 13, 21, 34, 55, 89, 144, 233\n",
    "\n",
    "#input_num = int(input(\"Enter Number\"))\n",
    "fibo_num_pos = 0\n",
    "fibo_list = []\n",
    "prePos = 0\n",
    "posPos = 1\n",
    "final_fibo = 0\n",
    "\n",
    "#for i in range(0,input_num):\n",
    "for i in range(0,10):\n",
    "    if fibo_num_pos == 0:\n",
    "        fibo_list.append(0)\n",
    "    if fibo_num_pos == 1:\n",
    "        fibo_list.append(1)\n",
    "    else:\n",
    "        final_fibo = prePos + posPos\n",
    "        fibo_list.append(final_fibo)\n",
    "        prePos = posPos\n",
    "        posPos = final_fibo\n",
    "    fibo_num_pos = fibo_num_pos + 1\n",
    "        \n",
    "fibo_list"
   ]
  },
  {
   "cell_type": "code",
   "execution_count": 46,
   "id": "6de9aaf0-5607-49f1-8111-65cde5148fe4",
   "metadata": {},
   "outputs": [
    {
     "name": "stdout",
     "output_type": "stream",
     "text": [
      "[1, 3, 4, 5]\n",
      "[1, 3, 4, 5]\n",
      "Sorted\n"
     ]
    }
   ],
   "source": [
    "#30. Check if a list is sorted.\n",
    "\n",
    "list30A = [1,3,4,5]\n",
    "list30B = list30A.copy()\n",
    "list30B.sort()\n",
    "print(list30A)\n",
    "print(list30B)\n",
    "\n",
    "if list30A == list30B:\n",
    "    print(\"Sorted\")\n",
    "else:\n",
    "    print(\"not sorted\")\n",
    "\n"
   ]
  },
  {
   "cell_type": "code",
   "execution_count": 14,
   "id": "caf87f71-8ae7-45f6-9e47-1e40a97302ef",
   "metadata": {},
   "outputs": [
    {
     "data": {
      "text/plain": [
       "[2, 3, 4, 5, 6, 7, 8, 9, 10, 1]"
      ]
     },
     "execution_count": 14,
     "metadata": {},
     "output_type": "execute_result"
    }
   ],
   "source": [
    "#31. Rotate a list to the left by `n` positions.\n",
    "list31A = [1,2,3,4,5,6,7,8,9,10]\n",
    "list31B = []\n",
    "n = 2\n",
    "n = n-1\n",
    "#list31A.append(list31A[n:].append(list31A[:n-1]))\n",
    "\n",
    "list31B.extend(list31A[n:])\n",
    "list31B.extend(list31A[:n])\n",
    "\n",
    "list31B"
   ]
  },
  {
   "cell_type": "code",
   "execution_count": 19,
   "id": "d8c4a9b1-6fa1-4088-9bfc-b6d5360ecd7a",
   "metadata": {},
   "outputs": [
    {
     "name": "stdout",
     "output_type": "stream",
     "text": [
      "[4, 3, 2, 1, 10, 9, 8, 7, 6, 5]\n"
     ]
    }
   ],
   "source": [
    "#32. Rotate a list to the right by `n` positions.\n",
    "list32A = [1,2,3,4,5,6,7,8,9,10]\n",
    "n1 = 3\n",
    "list32A_L1 = list32A[n1::-1]\n",
    "list32A_L2 = list32A[:n1:-1]\n",
    "print(list32A_L1 + list32A_L2)"
   ]
  },
  {
   "cell_type": "code",
   "execution_count": 6,
   "id": "edac5482-afb1-4bf6-a92d-73280051248a",
   "metadata": {},
   "outputs": [
    {
     "name": "stdout",
     "output_type": "stream",
     "text": [
      "[2, 3, 5, 7, 11, 13, 17, 19, 23, 29, 31, 37, 41, 43, 47]"
     ]
    }
   ],
   "source": [
    "#33. Create a list of prime numbers up to 50.\n",
    "#2, 3, 5, 7, 11, 13, 17, 19, 23, 29, 31, 37, 41, 43, 47, 53, 59, 61, 67, 71, 73, 79, 83, 89, 97\n",
    "\n",
    "list33A = []\n",
    "for i in range(2,50):\n",
    "    if int(i) in [2,3,5,7]:\n",
    "        list33A.append(i)\n",
    "    elif int(i) % 2 == 0:\n",
    "        print(\"\",end=\"\")\n",
    "    elif int(i) % 3 == 0:\n",
    "        print(\"\",end=\"\")\n",
    "    elif int(i) % 5 == 0:\n",
    "        print(\"\",end=\"\")\n",
    "    elif int(i) % 7 == 0:\n",
    "        print(\"\",end=\"\")\n",
    "    else:\n",
    "        list33A.append(i)\n",
    "print(list33A, end=\"\")           "
   ]
  },
  {
   "cell_type": "code",
   "execution_count": 28,
   "id": "29553797-db76-427b-b539-c40d2f1b6693",
   "metadata": {},
   "outputs": [
    {
     "name": "stdout",
     "output_type": "stream",
     "text": [
      "5\n",
      "6\n",
      "7\n",
      "8\n",
      "9\n",
      "10\n",
      "11\n",
      "12\n",
      "13\n",
      "14\n",
      "15\n"
     ]
    },
    {
     "data": {
      "text/plain": [
       "[[2, 5, 11, 17], [2, 5, 11, 17], [2, 5, 11, 17], [2, 5, 11, 17]]"
      ]
     },
     "execution_count": 28,
     "metadata": {},
     "output_type": "execute_result"
    }
   ],
   "source": [
    "#34. Split a list into chunks of size `n`.\n",
    "\n",
    "#Unable to solve\n",
    "list_splitA = [2, 3, 5, 7, 11, 13, 17, 19, 23, 29, 31, 37, 41, 43, 47]\n",
    "list_splitA_len = len(list_splitA)\n",
    "list_splitB = list_splitA.copy()\n",
    "list_splitB1 = []\n",
    "list_splitC = []\n",
    "\n",
    "n=4\n",
    "count_list_splitA = 0\n",
    "for i in range(0,list_splitA_len):\n",
    "    count_list_splitA = count_list_splitA + 1\n",
    "    \n",
    "    if count_list_splitA <= 4:\n",
    "        list_splitB1.append(list_splitA[i])\n",
    "        list_splitC.append(list_splitB1)\n",
    "        list_splitA.remove(list_splitA[i])\n",
    "    else:\n",
    "        print(count_list_splitA)\n",
    "        \n",
    "        \n",
    "list_splitC"
   ]
  },
  {
   "cell_type": "code",
   "execution_count": 38,
   "id": "04756b20-9767-493d-8337-df1013824701",
   "metadata": {},
   "outputs": [
    {
     "data": {
      "text/plain": [
       "11"
      ]
     },
     "execution_count": 38,
     "metadata": {},
     "output_type": "execute_result"
    }
   ],
   "source": [
    "#35. Find the second largest number in a list.\n",
    "\n",
    "list_35A = [2, 5, 11, 17]\n",
    "list_35A.sort(reverse=True)\n",
    "list_35A\n",
    "#secondLargest = list_35A[1]\n",
    "#secondLargest\n",
    "\n",
    "list_35B = [2, 5, 11, 17]\n",
    "list_35B.sort()\n",
    "list_35B\n",
    "\n",
    "secondLargest = list_35B[len(list_35B)-2]\n",
    "secondLargest"
   ]
  },
  {
   "cell_type": "code",
   "execution_count": 49,
   "id": "d4bf1500-525c-4e93-bd69-a412e43c921c",
   "metadata": {},
   "outputs": [
    {
     "name": "stdout",
     "output_type": "stream",
     "text": [
      "[1, 4, 9, 16, 25]\n"
     ]
    }
   ],
   "source": [
    "#36. Replace every element in a list with its square.\n",
    "list_36A = [1,2,3,4,5]\n",
    "count_list36A = 0\n",
    "for i in list_36A:\n",
    "    x = i * i\n",
    "    list_36A[count_list36A] = x\n",
    "    count_list36A = count_list36A+1\n",
    "\n",
    "print(list_36A)"
   ]
  },
  {
   "cell_type": "code",
   "execution_count": 6,
   "id": "3a31ab53-c27e-46a7-8f22-6ba882dd4966",
   "metadata": {},
   "outputs": [
    {
     "name": "stdout",
     "output_type": "stream",
     "text": [
      "{'a': 0, 'b': 1, 'c': 2, 'd': 3, 'e': 4}\n"
     ]
    }
   ],
   "source": [
    "#37. Convert a list to a dictionary where list elements become keys and their indices become values.\n",
    "\n",
    "list_37A = ['a','b','c','d','e']\n",
    "count_37A = 0\n",
    "dict_37A = {}\n",
    "\n",
    "for i in list_37A:\n",
    "    dict_37A[i] = count_37A\n",
    "    count_37A = count_37A + 1\n",
    "    \n",
    "print(dict_37A)\n"
   ]
  },
  {
   "cell_type": "code",
   "execution_count": 8,
   "id": "3feb1a2f-dfb2-4174-acc1-ca191c7b2399",
   "metadata": {},
   "outputs": [
    {
     "data": {
      "text/plain": [
       "['b', 'e', 'a', 'd', 'c']"
      ]
     },
     "execution_count": 8,
     "metadata": {},
     "output_type": "execute_result"
    }
   ],
   "source": [
    "#38. Shuffle the elements of a list randomly.\n",
    "import random\n",
    "list_38A = ['a','b','c','d','e']\n",
    "random.shuffle(list_38A)\n",
    "list_38A"
   ]
  },
  {
   "cell_type": "code",
   "execution_count": 22,
   "id": "b233ce47-1c1b-4df0-8f54-d0c850627ce4",
   "metadata": {},
   "outputs": [
    {
     "name": "stdout",
     "output_type": "stream",
     "text": [
      "1 ! = 1\n",
      "2 ! = 2\n",
      "3 ! = 6\n",
      "4 ! = 24\n",
      "5 ! = 120\n",
      "6 ! = 720\n",
      "7 ! = 5040\n",
      "8 ! = 40320\n",
      "9 ! = 362880\n",
      "10 ! = 3628800\n"
     ]
    }
   ],
   "source": [
    "#39. Create a list of the first 10 factorial numbers.\n",
    "#The value of factorial of 10 is 3628800, i.e. 10! = 10 × 9 × 8 × 7 × 6 × 5 × 4 × 3 × 2 × 1 = 3628800.\n",
    "\n",
    "list_39A = []\n",
    "for i in range(1,11):\n",
    "    total = 1\n",
    "    for j in range(1,i+1):\n",
    "        total = total * j\n",
    "    print(i,\"! =\",total)"
   ]
  },
  {
   "cell_type": "code",
   "execution_count": 32,
   "id": "682f90c6-957e-4b00-9055-282f7234286a",
   "metadata": {},
   "outputs": [
    {
     "name": "stdout",
     "output_type": "stream",
     "text": [
      "Common elements are {555}\n"
     ]
    }
   ],
   "source": [
    "#40. Check if two lists have at least one element in common.\n",
    "list_40A = [33,44,555,66]\n",
    "list_40B = [333,666,555,999]\n",
    "\n",
    "set_40A = set(list_40A)\n",
    "set_40B = set(list_40B)\n",
    "\n",
    "set_40C = set_40A & set_40B\n",
    "if len(set_40C)>0:\n",
    "    print(\"Common elements are\",set_40C)\n",
    "else:\n",
    "    print(\"No Common elements found\")"
   ]
  },
  {
   "cell_type": "code",
   "execution_count": 33,
   "id": "311831fd-2426-4a0f-956f-7268c3eb6a51",
   "metadata": {},
   "outputs": [
    {
     "data": {
      "text/plain": [
       "[]"
      ]
     },
     "execution_count": 33,
     "metadata": {},
     "output_type": "execute_result"
    }
   ],
   "source": [
    "#41. Remove all elements from a list.\n",
    "list_41A = [333,666,555,999]\n",
    "list_41A.clear()\n",
    "list_41A"
   ]
  },
  {
   "cell_type": "code",
   "execution_count": 52,
   "id": "aeb72248-c621-417d-9c01-d9e781b67f0d",
   "metadata": {},
   "outputs": [
    {
     "data": {
      "text/plain": [
       "[0, 0, 35, 67, 89, 94, 65, 52, 0, 333, 666, 555, 999]"
      ]
     },
     "execution_count": 52,
     "metadata": {},
     "output_type": "execute_result"
    }
   ],
   "source": [
    "#42. Replace negative numbers in a list with 0.\n",
    "list_42A = [-1,-2,35,67,89,94,65,52,-5,333,666,555,999]\n",
    "count_42 = 0\n",
    "\n",
    "for i in list_42A:\n",
    "    if i <0:\n",
    "        list_42A[count_42] = 0\n",
    "    count_42 = count_42 +1\n",
    "list_42A"
   ]
  },
  {
   "cell_type": "code",
   "execution_count": 53,
   "id": "bc66f1a8-97b6-4a31-9a38-b73e3de54da9",
   "metadata": {},
   "outputs": [
    {
     "data": {
      "text/plain": [
       "['A',\n",
       " 'data',\n",
       " 'scientist',\n",
       " 'uses',\n",
       " 'data',\n",
       " 'to',\n",
       " 'understand',\n",
       " 'and',\n",
       " 'explain',\n",
       " 'the',\n",
       " 'phenomena',\n",
       " 'around',\n",
       " 'them,',\n",
       " 'and',\n",
       " 'help',\n",
       " 'organizations',\n",
       " 'make',\n",
       " 'better',\n",
       " 'decisions.']"
      ]
     },
     "execution_count": 53,
     "metadata": {},
     "output_type": "execute_result"
    }
   ],
   "source": [
    "#43. Convert a string into a list of words.\n",
    "\n",
    "string_43lst = \"A data scientist uses data to understand and explain the phenomena around them, and help organizations make better decisions.\"\n",
    "lst_43_words = list(string_43lst.split(\" \"))\n",
    "lst_43_words"
   ]
  },
  {
   "cell_type": "code",
   "execution_count": 55,
   "id": "bc2e8db0-f597-42d3-b3ed-5aeaf8398be2",
   "metadata": {},
   "outputs": [
    {
     "data": {
      "text/plain": [
       "'A data scientist uses data to understand and explain the'"
      ]
     },
     "execution_count": 55,
     "metadata": {},
     "output_type": "execute_result"
    }
   ],
   "source": [
    "#44. Convert a list of words into a string.\n",
    "list44_words = ['A', 'data', 'scientist', 'uses', 'data', 'to', 'understand', 'and', 'explain', 'the']\n",
    "str_list44_words = ' '.join(list44_words)\n",
    "str_list44_words"
   ]
  },
  {
   "cell_type": "code",
   "execution_count": 1,
   "id": "70f4c0bd-e117-4076-9680-1db633aab971",
   "metadata": {},
   "outputs": [
    {
     "data": {
      "text/plain": [
       "[0, 1, 4, 9, 16, 25, 36, 49, 64, 81]"
      ]
     },
     "execution_count": 1,
     "metadata": {},
     "output_type": "execute_result"
    }
   ],
   "source": [
    "#45. Create a list of the first `n` powers of 2.\n",
    "\n",
    "n45 = 10\n",
    "list45A = []\n",
    "for i in range(n45):\n",
    "    powr = i**2\n",
    "    list45A.append(powr)\n",
    "list45A\n"
   ]
  },
  {
   "cell_type": "code",
   "execution_count": 4,
   "id": "e541c8b3-329b-4726-aedc-2aa5105985c7",
   "metadata": {},
   "outputs": [
    {
     "name": "stdout",
     "output_type": "stream",
     "text": [
      "understand\n"
     ]
    }
   ],
   "source": [
    "#46. Find the longest string in a list of strings.\n",
    "\n",
    "list46_words = ['A', 'data', 'scientist', 'uses', 'data', 'to', 'understand', 'and', 'explain', 'the']\n",
    "string_n46 = \"\"\n",
    "\n",
    "for i in list46_words:\n",
    "    if len(i) > len(string_n46):\n",
    "        string_n46 = i\n",
    "\n",
    "print(string_n46)"
   ]
  },
  {
   "cell_type": "code",
   "execution_count": 6,
   "id": "d7ab62d2-9439-4ffb-976b-38c79aecf662",
   "metadata": {},
   "outputs": [
    {
     "name": "stdout",
     "output_type": "stream",
     "text": [
      "\n"
     ]
    }
   ],
   "source": [
    "#47. Find the shortest string in a list of strings.\n",
    "\n",
    "list47_words = ['data', 'scientist', 'uses', 'data', 'to', 'understand', 'and', 'explain', 'the']\n",
    "string_n47 = \"\"\n",
    "\n",
    "for i in list47_words:\n",
    "    if len(i) < len(string_n47):\n",
    "        string_n47 = i\n",
    "\n",
    "print(string_n47)"
   ]
  },
  {
   "cell_type": "code",
   "execution_count": 22,
   "id": "276eb957-d097-4f65-9e65-1a074ff45973",
   "metadata": {},
   "outputs": [
    {
     "name": "stdout",
     "output_type": "stream",
     "text": [
      "[0, 1, 3, 6, 10, 15, 21, 28, 36, 45]\n"
     ]
    }
   ],
   "source": [
    "#48. Create a list of the first `n` triangular numbers.\n",
    "n = 10\n",
    "list1=[]\n",
    "\n",
    "def Cal_Tri_Num(n):\n",
    "    Tring_Num = 0\n",
    "    for i in range(n):\n",
    "        for j in range(n):\n",
    "            Tring_Num = Tring_Num + 1\n",
    "        n=n-1\n",
    "    return Tring_Num\n",
    "\n",
    "for i in range(n):\n",
    "    list1.append(Cal_Tri_Num(i))\n",
    "print(list1)"
   ]
  },
  {
   "cell_type": "code",
   "execution_count": 16,
   "id": "d1552c45-b167-4c3b-bd9d-61e5e20b6270",
   "metadata": {},
   "outputs": [
    {
     "name": "stdout",
     "output_type": "stream",
     "text": [
      "True\n"
     ]
    }
   ],
   "source": [
    "#49. Check if a list contains another list as a subsequence.\n",
    "\n",
    "list49A = [1,2,3,4,5]\n",
    "list49B = [4,5]\n",
    "flag49 = False\n",
    "\n",
    "for i in list49A:\n",
    "    for j in list49B:\n",
    "        if j in list49A:\n",
    "            flag49 = True\n",
    "print(flag49)            "
   ]
  },
  {
   "cell_type": "code",
   "execution_count": 17,
   "id": "837cbcc2-51e9-4709-9c89-3e4656bdfde4",
   "metadata": {},
   "outputs": [
    {
     "data": {
      "text/plain": [
       "[1, 2, 5, 6, 7, 8, 9]"
      ]
     },
     "execution_count": 17,
     "metadata": {},
     "output_type": "execute_result"
    }
   ],
   "source": [
    "#50. Swap two elements in a list by their indices.\n",
    "\n",
    "list50A = [1,2,5,6,8,7,9]\n",
    "temp_list50 = list50A[4]\n",
    "\n",
    "list50A[4] = list50A[5]\n",
    "list50A[5] = temp_list50\n",
    "\n",
    "list50A\n"
   ]
  },
  {
   "cell_type": "code",
   "execution_count": null,
   "id": "069e5a3b-d43c-4420-9675-6524d624dc7b",
   "metadata": {},
   "outputs": [],
   "source": []
  },
  {
   "cell_type": "code",
   "execution_count": null,
   "id": "39b78253-b4d8-45a1-98a3-cf2fff7ed3f8",
   "metadata": {},
   "outputs": [],
   "source": []
  },
  {
   "cell_type": "code",
   "execution_count": null,
   "id": "98bc2c75-bb34-4664-bfa7-3914e4bd4f15",
   "metadata": {},
   "outputs": [],
   "source": []
  },
  {
   "cell_type": "code",
   "execution_count": null,
   "id": "24d0afca-3b90-4247-9a7d-9d995358015b",
   "metadata": {},
   "outputs": [],
   "source": [
    "#Tuple Based Practice Problem :"
   ]
  },
  {
   "cell_type": "code",
   "execution_count": 21,
   "id": "f08e6ad6-1a89-4af1-9cee-8302140045b0",
   "metadata": {},
   "outputs": [
    {
     "name": "stdout",
     "output_type": "stream",
     "text": [
      "<class 'tuple'>\n"
     ]
    },
    {
     "data": {
      "text/plain": [
       "(1, 2, 3, 4, 5)"
      ]
     },
     "execution_count": 21,
     "metadata": {},
     "output_type": "execute_result"
    }
   ],
   "source": [
    "#1. Create a tuple with integers from 1 to 5.\n",
    "tuple1A = (1,2,3,4,5)\n",
    "print(type(tuple1A))\n",
    "tuple1A"
   ]
  },
  {
   "cell_type": "code",
   "execution_count": 23,
   "id": "d5b4601c-3e0c-4a48-940f-3b3c10809f1f",
   "metadata": {},
   "outputs": [
    {
     "name": "stdout",
     "output_type": "stream",
     "text": [
      "3\n"
     ]
    }
   ],
   "source": [
    "#2. Access the third element of a tuple.\n",
    "t2A = (1,2,3,4,5)\n",
    "print(t2A[2])"
   ]
  },
  {
   "cell_type": "code",
   "execution_count": 25,
   "id": "fc0ee243-7b48-4e4d-b14a-2325d4fa7b06",
   "metadata": {},
   "outputs": [
    {
     "data": {
      "text/plain": [
       "5"
      ]
     },
     "execution_count": 25,
     "metadata": {},
     "output_type": "execute_result"
    }
   ],
   "source": [
    "#3. Find the length of a tuple without using the `len()` function.\n",
    "\n",
    "t3A = (1,2,3,4,5)\n",
    "countT3 = 0\n",
    "for i in t3A:\n",
    "    countT3= countT3+1\n",
    "countT3    "
   ]
  },
  {
   "cell_type": "code",
   "execution_count": 26,
   "id": "69cd26d9-4910-4d37-85b3-fcee3a64c8df",
   "metadata": {},
   "outputs": [
    {
     "data": {
      "text/plain": [
       "3"
      ]
     },
     "execution_count": 26,
     "metadata": {},
     "output_type": "execute_result"
    }
   ],
   "source": [
    "#4. Count the occurrences of an element in a tuple.\n",
    "t4A = (1,2,3,4,1,4,5,2,3,5,3,5,6,7,8,9,1,3,5,7,8)\n",
    "ele = 1\n",
    "countT4 = 0\n",
    "for i in t4A:\n",
    "    if i == ele:\n",
    "        countT4 = countT4 + 1\n",
    "countT4"
   ]
  },
  {
   "cell_type": "code",
   "execution_count": 28,
   "id": "7f35ba12-d7b8-472e-9b51-a2475f617dfa",
   "metadata": {},
   "outputs": [
    {
     "data": {
      "text/plain": [
       "3"
      ]
     },
     "execution_count": 28,
     "metadata": {},
     "output_type": "execute_result"
    }
   ],
   "source": [
    "#5. Find the index of the first occurrence of an element in a tuple.\n",
    "t5A = (2,3,4,1,4,5,2,3,5,3,5,6,7,1,8,9,1,3,5,7,8)\n",
    "ele = 1\n",
    "indexT5 = 0\n",
    "find_index = 0\n",
    "for i in t5A:\n",
    "    indexT5 = indexT5 + 1\n",
    "    if i == ele:\n",
    "        find_index = indexT5-1\n",
    "        break\n",
    "        \n",
    "find_index\n"
   ]
  },
  {
   "cell_type": "code",
   "execution_count": 40,
   "id": "a4861ba1-c35c-4d14-8d18-6c1c66c15dbf",
   "metadata": {},
   "outputs": [
    {
     "name": "stdout",
     "output_type": "stream",
     "text": [
      "Exists\n"
     ]
    }
   ],
   "source": [
    "#6. Check if an element exists in a tuple.\n",
    "t6A = (2,3,4,1,4,5,2,3,5,3,5,6,7,1,8,9,1,3,5,7,8)\n",
    "ele = 4\n",
    "flag = False\n",
    "\n",
    "for i in t6A:\n",
    "    if i == ele:\n",
    "        flag = True\n",
    "\n",
    "if flag == True:\n",
    "    print(\"Exists\")\n",
    "else:\n",
    "    print(\"Does not Exists\")\n",
    "    "
   ]
  },
  {
   "cell_type": "code",
   "execution_count": 45,
   "id": "81556493-f630-4734-adca-9612230029bf",
   "metadata": {},
   "outputs": [
    {
     "data": {
      "text/plain": [
       "[2, 3, 4, 1, 4, 5, 2, 3, 5, 3, 5, 6, 7, 1, 8, 9, 1, 3, 5, 7, 8]"
      ]
     },
     "execution_count": 45,
     "metadata": {},
     "output_type": "execute_result"
    }
   ],
   "source": [
    "#7. Convert a tuple to a list.\n",
    "\n",
    "t7A = (2,3,4,1,4,5,2,3,5,3,5,6,7,1,8,9,1,3,5,7,8)\n",
    "listT7 = list(t7A)\n",
    "listT7"
   ]
  },
  {
   "cell_type": "code",
   "execution_count": 46,
   "id": "0d171887-22b1-4f72-908a-9ba7d3a37fcf",
   "metadata": {},
   "outputs": [
    {
     "data": {
      "text/plain": [
       "(2, 3, 4, 1, 4, 5, 2, 3, 5, 3, 5, 6, 7, 1, 8, 9, 1, 3, 5, 7, 8)"
      ]
     },
     "execution_count": 46,
     "metadata": {},
     "output_type": "execute_result"
    }
   ],
   "source": [
    "#8. Convert a list to a tuple.\n",
    "list_T8A = [2, 3, 4, 1, 4, 5, 2, 3, 5, 3, 5, 6, 7, 1, 8, 9, 1, 3, 5, 7, 8]\n",
    "t8A = tuple(list_T8A)\n",
    "t8A"
   ]
  },
  {
   "cell_type": "code",
   "execution_count": 48,
   "id": "8dcc40cc-4c99-4cb3-bcbe-be1ff4345be7",
   "metadata": {},
   "outputs": [
    {
     "name": "stdout",
     "output_type": "stream",
     "text": [
      "33\n",
      "66\n",
      "99\n"
     ]
    }
   ],
   "source": [
    "#9. Unpack the elements of a tuple into variables.\n",
    "t9A = (66,99,33)\n",
    "\n",
    "v1, v2, v3 = t9A\n",
    "\n",
    "print(v3)\n",
    "print(v1)\n",
    "print(v2)"
   ]
  },
  {
   "cell_type": "code",
   "execution_count": 52,
   "id": "3c3223b8-31b8-4c58-a0ba-be90e0a23ea7",
   "metadata": {},
   "outputs": [
    {
     "data": {
      "text/plain": [
       "[2, 4, 6, 8, 10]"
      ]
     },
     "execution_count": 52,
     "metadata": {},
     "output_type": "execute_result"
    }
   ],
   "source": [
    "#10. Create a tuple of even numbers from 1 to 10.\n",
    "listT10 = []\n",
    "T10 = ()\n",
    "for i in range(1,11):\n",
    "    if i%2 == 0:\n",
    "        listT10.append(i)\n",
    "tuple(listT10)\n"
   ]
  },
  {
   "cell_type": "code",
   "execution_count": 55,
   "id": "8d4b2d84-28a7-4d4d-ba53-b30a2517a600",
   "metadata": {},
   "outputs": [
    {
     "data": {
      "text/plain": [
       "[1, 3, 5, 7, 9]"
      ]
     },
     "execution_count": 55,
     "metadata": {},
     "output_type": "execute_result"
    }
   ],
   "source": [
    "#11. Create a tuple of odd numbers from 1 to 10.\n",
    "\n",
    "T11 = [i for i in range(1,11) if not i%2==0]\n",
    "T11\n"
   ]
  },
  {
   "cell_type": "code",
   "execution_count": 56,
   "id": "8a6f6c0c-1190-4dac-b27a-73a1ed44c354",
   "metadata": {},
   "outputs": [
    {
     "data": {
      "text/plain": [
       "(1, 2, 3, 4, 5)"
      ]
     },
     "execution_count": 56,
     "metadata": {},
     "output_type": "execute_result"
    }
   ],
   "source": [
    "#12. Concatenate two tuples.\n",
    "\n",
    "T1 = (1,2,3)\n",
    "T2 = (4,5)\n",
    "\n",
    "T3 = T1 + T2\n",
    "T3"
   ]
  },
  {
   "cell_type": "code",
   "execution_count": 57,
   "id": "e4b69622-cc1a-4999-af9a-bcfb9dbfc1d4",
   "metadata": {},
   "outputs": [
    {
     "data": {
      "text/plain": [
       "(1, 2, 3, 1, 2, 3, 1, 2, 3)"
      ]
     },
     "execution_count": 57,
     "metadata": {},
     "output_type": "execute_result"
    }
   ],
   "source": [
    "#13. Repeat a tuple three times.\n",
    "\n",
    "T1 = (1,2,3)\n",
    "T2 = T1 * 3\n",
    "T2"
   ]
  },
  {
   "cell_type": "code",
   "execution_count": 62,
   "id": "7aa790fb-3d03-46c6-9af8-bbc34ecaedba",
   "metadata": {},
   "outputs": [
    {
     "name": "stdout",
     "output_type": "stream",
     "text": [
      "TA Empty Tuple\n",
      "TB Filled Tuple\n"
     ]
    }
   ],
   "source": [
    "#14. Check if a tuple is empty.\n",
    "\n",
    "T14A = ()\n",
    "T14B = (10,20)\n",
    "\n",
    "if len(T14A) == 0:\n",
    "    print(\"TA Empty Tuple\")\n",
    "else:\n",
    "    print(\"TA Filled Tuple\")\n",
    "\n",
    "if len(T14B) == 0:\n",
    "    print(\"TB Empty Tuple\")\n",
    "else:\n",
    "    print(\"TB Filled Tuple\")"
   ]
  },
  {
   "cell_type": "code",
   "execution_count": 63,
   "id": "0c872af5-bebb-4392-b6ed-23fa84ff2ac1",
   "metadata": {},
   "outputs": [
    {
     "name": "stdout",
     "output_type": "stream",
     "text": [
      "((1, 2, 3), ('A', 'B', 'C'), (4, 5, 6), ('D', 'E', 'F'))\n"
     ]
    }
   ],
   "source": [
    "#15. Create a nested tuple.\n",
    "T15 = ((1,2,3),(\"A\",\"B\",\"C\"),(4,5,6),(\"D\",\"E\",\"F\"))\n",
    "\n",
    "print(T15)\n"
   ]
  },
  {
   "cell_type": "code",
   "execution_count": 66,
   "id": "c26b0c4d-fb0c-4d36-a4e3-da2f3a139819",
   "metadata": {},
   "outputs": [
    {
     "name": "stdout",
     "output_type": "stream",
     "text": [
      "(1, 2, 3)\n",
      "1\n"
     ]
    }
   ],
   "source": [
    "#16. Access the first element of a nested tuple.\n",
    "T16 = ((1,2,3),(\"A\",\"B\",\"C\"),(4,5,6),(\"D\",\"E\",\"F\"))\n",
    "print(T16[0])\n",
    "T16_1 = T16[0]\n",
    "print(T16_1[0])\n"
   ]
  },
  {
   "cell_type": "code",
   "execution_count": 68,
   "id": "dbc4da1b-c3a6-435f-a346-e451befefcf0",
   "metadata": {},
   "outputs": [
    {
     "name": "stdout",
     "output_type": "stream",
     "text": [
      "('A',)\n"
     ]
    }
   ],
   "source": [
    "#17. Create a tuple with a single element.\n",
    "T17=(\"A\",)\n",
    "print(T17)"
   ]
  },
  {
   "cell_type": "code",
   "execution_count": 75,
   "id": "c7fccc98-b07d-48b8-b416-af4263104407",
   "metadata": {},
   "outputs": [
    {
     "name": "stdout",
     "output_type": "stream",
     "text": [
      "T18A == T18B: True\n",
      "T18A == T18B: True\n",
      "T18A == T18B: True\n",
      "T18A == T18B: False\n",
      "T18A == T18B: False\n",
      "T18A == T18B: False\n"
     ]
    }
   ],
   "source": [
    "#18. Compare two tuples.\n",
    "\n",
    "T18A = (3,4,5)\n",
    "T18B = (3,4,5)\n",
    "\n",
    "print(\"T18A == T18B:\", T18A == T18B)\n",
    "print(\"T18A == T18B:\", T18A <= T18B)\n",
    "print(\"T18A == T18B:\", T18A >= T18B)\n",
    "print(\"T18A == T18B:\", T18A < T18B)\n",
    "print(\"T18A == T18B:\", T18A > T18B)\n",
    "print(\"T18A == T18B:\", T18A != T18B)\n"
   ]
  },
  {
   "cell_type": "code",
   "execution_count": 78,
   "id": "add1e0a5-a688-4b0f-9cb8-27392c9a5bb8",
   "metadata": {},
   "outputs": [
    {
     "ename": "NameError",
     "evalue": "name 'T19A' is not defined",
     "output_type": "error",
     "traceback": [
      "\u001b[0;31m---------------------------------------------------------------------------\u001b[0m",
      "\u001b[0;31mNameError\u001b[0m                                 Traceback (most recent call last)",
      "Cell \u001b[0;32mIn[78], line 4\u001b[0m\n\u001b[1;32m      2\u001b[0m T19A \u001b[38;5;241m=\u001b[39m (\u001b[38;5;241m3\u001b[39m,\u001b[38;5;241m7\u001b[39m,\u001b[38;5;241m8\u001b[39m,\u001b[38;5;241m0\u001b[39m) \n\u001b[1;32m      3\u001b[0m \u001b[38;5;28;01mdel\u001b[39;00m T19A\n\u001b[0;32m----> 4\u001b[0m \u001b[38;5;28mprint\u001b[39m(\u001b[43mT19A\u001b[49m)\n",
      "\u001b[0;31mNameError\u001b[0m: name 'T19A' is not defined"
     ]
    }
   ],
   "source": [
    "#19. Delete a tuple.\n",
    "T19A = (3,7,8,0) \n",
    "del T19A\n",
    "print(T19A)"
   ]
  },
  {
   "cell_type": "code",
   "execution_count": 80,
   "id": "aa0fd792-181c-40cf-8038-a8458ceb2337",
   "metadata": {},
   "outputs": [
    {
     "data": {
      "text/plain": [
       "(7, 8, 9, 1)"
      ]
     },
     "execution_count": 80,
     "metadata": {},
     "output_type": "execute_result"
    }
   ],
   "source": [
    "#20. Slice a tuple.\n",
    "T20A = (2,3,4,5,6,7,8,9,1)\n",
    "\n",
    "T20B = T20A[5:]\n",
    "T20B"
   ]
  },
  {
   "cell_type": "code",
   "execution_count": 81,
   "id": "9e694dc0-c148-490b-a461-60ec3e5f10fe",
   "metadata": {},
   "outputs": [
    {
     "data": {
      "text/plain": [
       "9999"
      ]
     },
     "execution_count": 81,
     "metadata": {},
     "output_type": "execute_result"
    }
   ],
   "source": [
    "#21. Find the maximum value in a tuple.\n",
    "\n",
    "T21A = (100,300,500,600,9999)\n",
    "MaxT21 = max(T21A)\n",
    "MaxT21"
   ]
  },
  {
   "cell_type": "code",
   "execution_count": 82,
   "id": "504e7c86-4267-4079-934e-99738aab78d5",
   "metadata": {},
   "outputs": [
    {
     "data": {
      "text/plain": [
       "100"
      ]
     },
     "execution_count": 82,
     "metadata": {},
     "output_type": "execute_result"
    }
   ],
   "source": [
    "#22. Find the minimum value in a tuple.\n",
    "\n",
    "T22A = (100,300,500,600,9999)\n",
    "MaxT22 = min(T21A)\n",
    "MaxT22"
   ]
  },
  {
   "cell_type": "code",
   "execution_count": 83,
   "id": "e4bd07ed-8e7a-427e-a830-53f1c559c727",
   "metadata": {},
   "outputs": [
    {
     "data": {
      "text/plain": [
       "('I', 'N', 'D', 'I', 'A')"
      ]
     },
     "execution_count": 83,
     "metadata": {},
     "output_type": "execute_result"
    }
   ],
   "source": [
    "#23. Convert a string to a tuple of characters.\n",
    "\n",
    "T23A = \"INDIA\"\n",
    "\n",
    "T23B = tuple(T23A)\n",
    "T23B"
   ]
  },
  {
   "cell_type": "code",
   "execution_count": 87,
   "id": "2642f7ae-c20c-4f64-8218-cf20dc1f89a5",
   "metadata": {},
   "outputs": [
    {
     "data": {
      "text/plain": [
       "'INDIA'"
      ]
     },
     "execution_count": 87,
     "metadata": {},
     "output_type": "execute_result"
    }
   ],
   "source": [
    "#24. Convert a tuple of characters to a string.\n",
    "\n",
    "T24 = ('I', 'N', 'D', 'I', 'A')\n",
    "stringT24 = \"\".join(T24)\n",
    "stringT24"
   ]
  },
  {
   "cell_type": "code",
   "execution_count": 95,
   "id": "a48bf800-5fe3-4b93-a2b3-6621dfcd62c6",
   "metadata": {},
   "outputs": [
    {
     "data": {
      "text/plain": [
       "(1, 2, 3, 4, 'A', 'B', 'C', 45.55, -5, 'stinger', (1, 2, 3), [9, 8, 7])"
      ]
     },
     "execution_count": 95,
     "metadata": {},
     "output_type": "execute_result"
    }
   ],
   "source": [
    "#25. Create a tuple from multiple data types.\n",
    "\n",
    "T25A = (1,2,3,4,\"A\",\"B\",\"C\",45.55,-5,\"stinger\",(1,2,3),[9,8,7])\n",
    "T25A"
   ]
  },
  {
   "cell_type": "code",
   "execution_count": 92,
   "id": "bf583fd4-a426-4d35-b06e-ba3f8ede12ae",
   "metadata": {},
   "outputs": [
    {
     "name": "stdout",
     "output_type": "stream",
     "text": [
      "identical\n"
     ]
    }
   ],
   "source": [
    "#26. Check if two tuples are identical.\n",
    "\n",
    "T1 = (7,8,9,0)\n",
    "T2 = (7,8,9,0)\n",
    "\n",
    "if T1 == T2:\n",
    "    print(\"identical\")\n",
    "else:\n",
    "    print(\"Not identical\")"
   ]
  },
  {
   "cell_type": "code",
   "execution_count": 97,
   "id": "49e672eb-de87-46be-a7fe-e0d3be9068ac",
   "metadata": {},
   "outputs": [
    {
     "data": {
      "text/plain": [
       "(33, 67, 98, 100, 500, 600, 9999)"
      ]
     },
     "execution_count": 97,
     "metadata": {},
     "output_type": "execute_result"
    }
   ],
   "source": [
    "#27. Sort the elements of a tuple.\n",
    "T27A = (100,33,500,67,98,600,9999)\n",
    "T27B = tuple(sorted(T27A))\n",
    "T27B"
   ]
  },
  {
   "cell_type": "code",
   "execution_count": 103,
   "id": "a7652f43-b99b-48cd-9f49-53f86614965b",
   "metadata": {},
   "outputs": [
    {
     "data": {
      "text/plain": [
       "('1', '2', '3')"
      ]
     },
     "execution_count": 103,
     "metadata": {},
     "output_type": "execute_result"
    }
   ],
   "source": [
    "#28. Convert a tuple of integers to a tuple of strings.\n",
    "\n",
    "T28A = (1,2,3)\n",
    "T28B = tuple([str(i) for i in T28A])\n",
    "T28B"
   ]
  },
  {
   "cell_type": "code",
   "execution_count": 107,
   "id": "e4858150-7f63-4ed8-a1ef-76b4cbd662d8",
   "metadata": {},
   "outputs": [
    {
     "name": "stdout",
     "output_type": "stream",
     "text": [
      "T3 : (0, 1, 2, 3, 4, 5, 7, 8, 9)\n",
      "T4 : (7, 8, 9, 0, 1, 2, 3, 4, 5)\n"
     ]
    }
   ],
   "source": [
    "#30. Merge two tuples.\n",
    "\n",
    "T1 = (7,8,9,0)\n",
    "T2 = (1,2,3,4,5)\n",
    "\n",
    "sT1 = set(T1)\n",
    "sT2 = sT1.union(set(T2))\n",
    "T3 = tuple(sT2)\n",
    "T3\n",
    "T4 = T1+T2\n",
    "print(\"T3 :\", T3)\n",
    "print(\"T4 :\", T4)"
   ]
  },
  {
   "cell_type": "code",
   "execution_count": 10,
   "id": "5010b19d-ddf7-42d7-a3f0-181bb6d2595a",
   "metadata": {},
   "outputs": [
    {
     "name": "stdout",
     "output_type": "stream",
     "text": [
      "(1, 2, 3)\n",
      "(1, 2, 3, 1, 2, 3)\n"
     ]
    }
   ],
   "source": [
    "#31. Flatten a nested tuple.\n",
    "T1 = ((1,2,3),(4,5,6),(\"A\",\"B\",\"C\"))\n",
    "L1 = []\n",
    "\n",
    "for i in T1:\n",
    "    if isinstance(i,tuple):\n",
    "        print(i)\n",
    "        L1 = list(i)\n",
    "        L1.extend(i)\n",
    "        break;\n",
    "T2 = tuple(L1)\n",
    "print(T2)"
   ]
  },
  {
   "cell_type": "code",
   "execution_count": 12,
   "id": "05535c4a-593a-4d62-9656-95051188be45",
   "metadata": {},
   "outputs": [
    {
     "data": {
      "text/plain": [
       "[2, 3, 4, 5, 7]"
      ]
     },
     "execution_count": 12,
     "metadata": {},
     "output_type": "execute_result"
    }
   ],
   "source": [
    "#32. Create a tuple of the first 5 prime numbers.\n",
    "[x for x in range(2, 11)\n",
    "     if all(x % y for y in range(2, x//2))]"
   ]
  },
  {
   "cell_type": "code",
   "execution_count": 14,
   "id": "52cfbc42-a1ac-495b-9652-25eecf5e7d39",
   "metadata": {},
   "outputs": [
    {
     "name": "stdout",
     "output_type": "stream",
     "text": [
      "Palindrome\n"
     ]
    }
   ],
   "source": [
    "#33. Check if a tuple is a palindrome.\n",
    "t1 = ('p','0','p')\n",
    "t2= t1[::-1]\n",
    "t2\n",
    "if t1==t2:\n",
    "    print(\"Palindrome\")\n",
    "else:\n",
    "    print(\"Not Palindrome\")"
   ]
  },
  {
   "cell_type": "code",
   "execution_count": 20,
   "id": "8ee07b6d-e594-43ea-9bdb-2f99d9de9e4c",
   "metadata": {},
   "outputs": [
    {
     "data": {
      "text/plain": [
       "(1, 4, 9, 16, 25)"
      ]
     },
     "execution_count": 20,
     "metadata": {},
     "output_type": "execute_result"
    }
   ],
   "source": [
    "#34. Create a tuple of squares of numbers from 1 to 5.\n",
    "tuple([x**2 for x in range(1,6)])\n"
   ]
  },
  {
   "cell_type": "code",
   "execution_count": 21,
   "id": "d46cf377-7da1-40ea-a3c4-07aae612d2d6",
   "metadata": {},
   "outputs": [
    {
     "data": {
      "text/plain": [
       "[2, 4, 6, 8, 10, 12, 14]"
      ]
     },
     "execution_count": 21,
     "metadata": {},
     "output_type": "execute_result"
    }
   ],
   "source": [
    "#35. Filter out all even numbers from a tuple.\n",
    "t1 = (1,2,3,4,5,6,7,8,9,10,12,14)\n",
    "[t for t in t1 if t%2==0]"
   ]
  },
  {
   "cell_type": "code",
   "execution_count": 22,
   "id": "af825228-3f16-4ad2-887d-29543ead0fed",
   "metadata": {},
   "outputs": [
    {
     "data": {
      "text/plain": [
       "[2, 4, 6, 8, 10, 12, 14]"
      ]
     },
     "execution_count": 22,
     "metadata": {},
     "output_type": "execute_result"
    }
   ],
   "source": [
    "#36. Multiply all elements in a tuple by 2.\n",
    "t1 = (1,2,3,4,5,6,7)\n",
    "[i*2 for i in t1]"
   ]
  },
  {
   "cell_type": "code",
   "execution_count": 28,
   "id": "8db17242-c1a4-47bb-918e-94131dbd223b",
   "metadata": {},
   "outputs": [
    {
     "data": {
      "text/plain": [
       "(27, 22, 21, 32, 17, 5, 31, 31, 15, 25)"
      ]
     },
     "execution_count": 28,
     "metadata": {},
     "output_type": "execute_result"
    }
   ],
   "source": [
    "#37. Create a tuple of random numbers.\n",
    "list1=[]\n",
    "import random\n",
    "[list1.append(random.randint(4,40)) for i in range(0,10)]\n",
    "tuple(list1)"
   ]
  },
  {
   "cell_type": "code",
   "execution_count": 33,
   "id": "9664aa25-6a45-4374-8311-ec9c47eb08ba",
   "metadata": {},
   "outputs": [
    {
     "name": "stdout",
     "output_type": "stream",
     "text": [
      "Not sorted\n"
     ]
    }
   ],
   "source": [
    "#38. Check if a tuple is sorted.\n",
    "t1 = (27, 22, 21, 32, 17, 5, 31, 31, 15, 25)\n",
    "t2 = tuple(sorted(t1))\n",
    "\n",
    "if t1==t2:\n",
    "    print(\"sorted\")\n",
    "else:\n",
    "    print(\"Not sorted\")"
   ]
  },
  {
   "cell_type": "code",
   "execution_count": 40,
   "id": "98c74856-cdd8-4c14-9d68-d592249657f2",
   "metadata": {},
   "outputs": [
    {
     "name": "stdout",
     "output_type": "stream",
     "text": [
      "(27, 22, 21, 32)\n",
      "(17, 5, 31, 31, 15, 25)\n"
     ]
    },
    {
     "data": {
      "text/plain": [
       "(17, 5, 31, 31, 15, 25, 27, 22, 21, 32)"
      ]
     },
     "execution_count": 40,
     "metadata": {},
     "output_type": "execute_result"
    }
   ],
   "source": [
    "#39. Rotate a tuple to the left by `n` positions.\n",
    "t1 = (27, 22, 21, 32, 17, 5, 31, 31, 15, 25)\n",
    "n = 4\n",
    "t2A = t1[:4]\n",
    "t2B = t1[4:]\n",
    "print(t2A)\n",
    "print(t2B)\n",
    "\n",
    "t2 = t2B + t2A\n",
    "t2"
   ]
  },
  {
   "cell_type": "code",
   "execution_count": 41,
   "id": "eb0e9099-2eed-496e-b934-9736bf14c023",
   "metadata": {},
   "outputs": [
    {
     "name": "stdout",
     "output_type": "stream",
     "text": [
      "(25, 15, 31, 31, 5)\n",
      "(17, 32, 21, 22, 27)\n"
     ]
    },
    {
     "data": {
      "text/plain": [
       "(17, 32, 21, 22, 27, 25, 15, 31, 31, 5)"
      ]
     },
     "execution_count": 41,
     "metadata": {},
     "output_type": "execute_result"
    }
   ],
   "source": [
    "#40. Rotate a tuple to the right by `n` positions.\n",
    "t1 = (27, 22, 21, 32, 17, 5, 31, 31, 15, 25)\n",
    "n = 4\n",
    "t2A = t1[:4:-1]\n",
    "t2B = t1[4::-1]\n",
    "print(t2A)\n",
    "print(t2B)\n",
    "\n",
    "t2 = t2B + t2A\n",
    "t2"
   ]
  },
  {
   "cell_type": "code",
   "execution_count": 57,
   "id": "c38cb00c-6087-4a91-95ae-77a890602853",
   "metadata": {},
   "outputs": [
    {
     "data": {
      "text/plain": [
       "(1, 1, 2, 3, 5, 8, 13, 21)"
      ]
     },
     "execution_count": 57,
     "metadata": {},
     "output_type": "execute_result"
    }
   ],
   "source": [
    "#41. Create a tuple of the first 5 Fibonacci numbers.\n",
    "L1=[1,1]\n",
    "\n",
    "[L1.append(L1[i-1]+L1[i-2]) for i in range(2,8)]\n",
    "tuple(L1)"
   ]
  },
  {
   "cell_type": "code",
   "execution_count": 1,
   "id": "92948fd7-cd88-4196-809b-de39eff1b3fb",
   "metadata": {},
   "outputs": [
    {
     "name": "stdin",
     "output_type": "stream",
     "text": [
      "Enter value 4\n",
      "Enter value 0\n",
      "Enter value 1\n"
     ]
    },
    {
     "data": {
      "text/plain": [
       "('4', '0', '1')"
      ]
     },
     "execution_count": 1,
     "metadata": {},
     "output_type": "execute_result"
    }
   ],
   "source": [
    "#42. Create a tuple from user input.\n",
    "list1 = []\n",
    "for i in range(3):\n",
    "    a = input(\"Enter value\")\n",
    "    list1.append(a)\n",
    "tuple(list1)"
   ]
  },
  {
   "cell_type": "code",
   "execution_count": 6,
   "id": "1a035a07-91c1-491d-9ca6-c822093b8384",
   "metadata": {},
   "outputs": [
    {
     "name": "stdout",
     "output_type": "stream",
     "text": [
      "Before : (2, 3, 7, 8, 9, 4)\n",
      "Swap 4 with 7\n",
      "After  : (2, 3, 4, 8, 9, 7)\n"
     ]
    }
   ],
   "source": [
    "#43. Swap two elements in a tuple.\n",
    "t2 = (2,3,7,8,9,4)\n",
    "t3 = list(t2)\n",
    "a = t3[2]\n",
    "b = t3[5]\n",
    "temp = a\n",
    "\n",
    "t3[2] = b\n",
    "t3[5] = temp\n",
    "\n",
    "t4 = tuple(t3)\n",
    "\n",
    "print(\"Before :\",t2)\n",
    "print(\"Swap 4 with 7\")\n",
    "print(\"After  :\", t4)\n"
   ]
  },
  {
   "cell_type": "code",
   "execution_count": 8,
   "id": "818363c5-94ce-4e48-862c-b13684712301",
   "metadata": {},
   "outputs": [
    {
     "name": "stdout",
     "output_type": "stream",
     "text": [
      "Before : (1, 2, 3, 4, 5)\n",
      "After : (5, 4, 3, 2, 1)\n"
     ]
    }
   ],
   "source": [
    "#44. Reverse the elements of a tuple.\n",
    "t1 = (1,2,3,4,5)\n",
    "t2 = t1[::-1]\n",
    "print(\"Before :\",t1)\n",
    "print(\"After :\",t2)"
   ]
  },
  {
   "cell_type": "code",
   "execution_count": 11,
   "id": "c7113df1-4b2d-447c-b916-3b6c17316b44",
   "metadata": {},
   "outputs": [
    {
     "name": "stdout",
     "output_type": "stream",
     "text": [
      "(1, 2, 4)\n"
     ]
    }
   ],
   "source": [
    "#45. Create a tuple of the first `n` powers of 2.\n",
    "n=3\n",
    "t1 = tuple(2 ** i for i in range(n))\n",
    "print(t1)"
   ]
  },
  {
   "cell_type": "code",
   "execution_count": 12,
   "id": "78d7b800-20d1-4c50-9675-bc4ed5306770",
   "metadata": {},
   "outputs": [
    {
     "name": "stdout",
     "output_type": "stream",
     "text": [
      "Apple\n"
     ]
    }
   ],
   "source": [
    "#46. Find the longest string in a tuple of strings.\n",
    "t1 = (\"Apple\",\"Ball\",\"Cat\",\"Dog\")\n",
    "mx = max(t1,key=len)\n",
    "print(mx)"
   ]
  },
  {
   "cell_type": "code",
   "execution_count": 13,
   "id": "6fb78117-4c9e-4933-a3c0-17d81e7b04a8",
   "metadata": {},
   "outputs": [
    {
     "name": "stdout",
     "output_type": "stream",
     "text": [
      "Cat\n"
     ]
    }
   ],
   "source": [
    "#47. Find the shortest string in a tuple of strings.\n",
    "t1 = (\"Apple\",\"Ball\",\"Cat\",\"Dog\")\n",
    "mx = min(t1,key=len)\n",
    "print(mx)"
   ]
  },
  {
   "cell_type": "code",
   "execution_count": 18,
   "id": "95c33f28-9945-4ef6-bf81-3b240585d92e",
   "metadata": {},
   "outputs": [
    {
     "name": "stdout",
     "output_type": "stream",
     "text": [
      "(0, 1, 3, 6, 10, 15)\n"
     ]
    }
   ],
   "source": [
    "#48. Create a tuple of the first `n` triangular numbers.\n",
    "n = 6\n",
    "list1 = []\n",
    "\n",
    "def Calculate_Tri_num(n):\n",
    "    Tring_Num = 0\n",
    "    for i in range(n):\n",
    "        for j in range(n):\n",
    "            Tring_Num = Tring_Num + 1\n",
    "        n=n-1\n",
    "    return Tring_Num\n",
    "\n",
    "\n",
    "for i in range(n):\n",
    "    list1.append(Calculate_Tri_num(i))\n",
    "\n",
    "list2 = tuple(list1)\n",
    "print(list2)\n"
   ]
  },
  {
   "cell_type": "code",
   "execution_count": 21,
   "id": "84e62c6f-ab87-450f-8f5e-05d5b6e61c48",
   "metadata": {},
   "outputs": [
    {
     "name": "stdout",
     "output_type": "stream",
     "text": [
      "Perfectly matching\n"
     ]
    }
   ],
   "source": [
    "#49. Check if a tuple contains another tuple as a subsequence.\n",
    "\n",
    "def SubSequence(t1,t2):\n",
    "    counter = 0\n",
    "    for i in t1:\n",
    "        for j in t2:\n",
    "            if i == j:\n",
    "                counter=counter+1\n",
    "    if len(t2) == counter:\n",
    "        print(\"Perfectly matching\")\n",
    "    elif counter > 0:\n",
    "        print(\"Some of the elements are matching\")\n",
    "    else:\n",
    "        print(\"Its not a subset\")\n",
    "\n",
    "        \n",
    "t1 = (9,99,999,9999,99999)\n",
    "t1_sub = (9,99)\n",
    "SubSequence(t1,t1_sub)\n"
   ]
  },
  {
   "cell_type": "code",
   "execution_count": 24,
   "id": "1e712e86-3231-4a10-bd4d-254c24873b70",
   "metadata": {},
   "outputs": [
    {
     "name": "stdout",
     "output_type": "stream",
     "text": [
      "(0, 1)\n"
     ]
    }
   ],
   "source": [
    "#50. Create a tuple of alternating 1s and 0s of length `n`.\n",
    "n=2\n",
    "t1 = tuple(i % 2 for i in range(n))\n",
    "print(t1)"
   ]
  },
  {
   "cell_type": "code",
   "execution_count": null,
   "id": "c399e1ba-716b-4bbf-b0c5-49ae11df8bb0",
   "metadata": {},
   "outputs": [],
   "source": [
    "#Set Based Practice Problem :"
   ]
  },
  {
   "cell_type": "code",
   "execution_count": 27,
   "id": "6ece2f3d-32c8-4fb9-88f8-55283432984f",
   "metadata": {},
   "outputs": [
    {
     "name": "stdout",
     "output_type": "stream",
     "text": [
      "{0, 1, 2, 3, 4}\n"
     ]
    }
   ],
   "source": [
    "#1. Create a set with integers from 1 to 5.\n",
    "s = {i for i in range(5)}\n",
    "print(s)"
   ]
  },
  {
   "cell_type": "code",
   "execution_count": 36,
   "id": "cd2fc1c6-41ae-463c-bae7-2274512a9dc3",
   "metadata": {},
   "outputs": [
    {
     "name": "stdout",
     "output_type": "stream",
     "text": [
      "{1, 2, 3, 4, 5}\n"
     ]
    }
   ],
   "source": [
    "#2. Add an element to a set.\n",
    "s={1,3,4,5}\n",
    "s.add(2)\n",
    "print(s)"
   ]
  },
  {
   "cell_type": "code",
   "execution_count": 38,
   "id": "a46af7f2-15dc-4ded-ab44-906b59ac58fb",
   "metadata": {},
   "outputs": [
    {
     "name": "stdout",
     "output_type": "stream",
     "text": [
      "{3, 4, 5}\n"
     ]
    }
   ],
   "source": [
    "#3. Remove an element from a set.\n",
    "\n",
    "s={1,3,4,5}\n",
    "s.remove(1)\n",
    "print(s)\n"
   ]
  },
  {
   "cell_type": "code",
   "execution_count": 40,
   "id": "37b96787-1261-49aa-a3eb-af57f764be83",
   "metadata": {},
   "outputs": [
    {
     "name": "stdout",
     "output_type": "stream",
     "text": [
      "element exists in a set\n"
     ]
    }
   ],
   "source": [
    "#4. Check if an element exists in a set.\n",
    "\n",
    "s={1,3,4,5}\n",
    "if 1 in s:\n",
    "    print(\"Element exists in a set\")\n",
    "else:\n",
    "    print(\"Element does not exists in a set\")"
   ]
  },
  {
   "cell_type": "code",
   "execution_count": 41,
   "id": "5496f6b9-0bf9-45be-9115-39ce97c0091e",
   "metadata": {},
   "outputs": [
    {
     "name": "stdout",
     "output_type": "stream",
     "text": [
      "Length of set is : 4\n"
     ]
    }
   ],
   "source": [
    "#5. Find the length of a set without using the `len()` function.\n",
    "s={1,3,4,5}\n",
    "c=0\n",
    "for i in s:\n",
    "    c = c+ 1\n",
    "print(\"Length of set is :\",c)    "
   ]
  },
  {
   "cell_type": "code",
   "execution_count": 45,
   "id": "46d40071-d361-44f4-ab22-b07f07791621",
   "metadata": {},
   "outputs": [
    {
     "name": "stdout",
     "output_type": "stream",
     "text": [
      "set()\n"
     ]
    }
   ],
   "source": [
    "#6. Clear all elements from a set.\n",
    "s={1,3,4,5}\n",
    "s.clear()\n",
    "print(s)"
   ]
  },
  {
   "cell_type": "code",
   "execution_count": 47,
   "id": "456b25b8-4d2f-4609-89f4-da486bcbee49",
   "metadata": {},
   "outputs": [
    {
     "data": {
      "text/plain": [
       "{0, 2, 4, 6, 8}"
      ]
     },
     "execution_count": 47,
     "metadata": {},
     "output_type": "execute_result"
    }
   ],
   "source": [
    "#7. Create a set of even numbers from 1 to 10.\n",
    "\n",
    "s = {i for i in range(10) if i%2==0}\n",
    "s"
   ]
  },
  {
   "cell_type": "code",
   "execution_count": 48,
   "id": "b6e8c96f-6756-4b95-81cb-4135f6d1ad82",
   "metadata": {},
   "outputs": [
    {
     "data": {
      "text/plain": [
       "{1, 3, 5, 7, 9}"
      ]
     },
     "execution_count": 48,
     "metadata": {},
     "output_type": "execute_result"
    }
   ],
   "source": [
    "#8. Create a set of odd numbers from 1 to 10.\n",
    "s = {i for i in range(10) if i%2 !=0}\n",
    "s"
   ]
  },
  {
   "cell_type": "code",
   "execution_count": 51,
   "id": "9e0929f0-bb12-4266-bc6d-754c278a6cc2",
   "metadata": {},
   "outputs": [
    {
     "data": {
      "text/plain": [
       "{1, 2, 3, 4, 5, 6, 7}"
      ]
     },
     "execution_count": 51,
     "metadata": {},
     "output_type": "execute_result"
    }
   ],
   "source": [
    "#9. Find the union of two sets.\n",
    "s1 = {1,2,3,4}\n",
    "s2 = {4,5,6,7}\n",
    "\n",
    "s3 = s1.union(s2)\n",
    "s3"
   ]
  },
  {
   "cell_type": "code",
   "execution_count": 52,
   "id": "ce4140eb-5555-45c0-94e8-1905792a7a36",
   "metadata": {},
   "outputs": [
    {
     "data": {
      "text/plain": [
       "{4}"
      ]
     },
     "execution_count": 52,
     "metadata": {},
     "output_type": "execute_result"
    }
   ],
   "source": [
    "#10. Find the intersection of two sets.\n",
    "s1 = {1,2,3,4}\n",
    "s2 = {4,5,6,7}\n",
    "\n",
    "s3 = s1.intersection(s2)\n",
    "s3"
   ]
  },
  {
   "cell_type": "code",
   "execution_count": 56,
   "id": "6f14f2a2-e807-4f25-a464-54736fdb12aa",
   "metadata": {},
   "outputs": [
    {
     "data": {
      "text/plain": [
       "{1, 2, 3}"
      ]
     },
     "execution_count": 56,
     "metadata": {},
     "output_type": "execute_result"
    }
   ],
   "source": [
    "#11. Find the difference between two sets.\n",
    "\n",
    "s1 = {1,2,3,4}\n",
    "s2 = {4,6,7,8}\n",
    "\n",
    "s3 = s1.difference(s2)\n",
    "s3"
   ]
  },
  {
   "cell_type": "code",
   "execution_count": 4,
   "id": "d6bd87b7-2c6d-4817-9a7b-76e45b0a5c44",
   "metadata": {},
   "outputs": [
    {
     "name": "stdout",
     "output_type": "stream",
     "text": [
      "Yes, Subset\n"
     ]
    }
   ],
   "source": [
    "#12. Check if a set is a subset of another set.\n",
    "\n",
    "s1 = {1,2,3,4,4,5,6,7}\n",
    "s2 = {4,5,6,7}\n",
    "\n",
    "if s2.issubset(s1):\n",
    "    print(\"Yes, Subset\")\n",
    "else:\n",
    "    print(\"NO\")\n"
   ]
  },
  {
   "cell_type": "code",
   "execution_count": 6,
   "id": "9305d66c-632c-496f-a54c-48c6a0a55434",
   "metadata": {},
   "outputs": [
    {
     "name": "stdout",
     "output_type": "stream",
     "text": [
      "Yes, Super Set\n"
     ]
    }
   ],
   "source": [
    "#13. Check if a set is a superset of another set.\n",
    "\n",
    "s1 = {1,2,3,4,4,5,6,7}\n",
    "s2 = {4,5,6,7}\n",
    "\n",
    "if s1.issuperset(s2):\n",
    "    print(\"Yes, Super Set\")\n",
    "else:\n",
    "    print(\"NO\")"
   ]
  },
  {
   "cell_type": "code",
   "execution_count": 7,
   "id": "9c47e95c-1e82-4d27-853f-b759995025b2",
   "metadata": {},
   "outputs": [
    {
     "name": "stdout",
     "output_type": "stream",
     "text": [
      "{1, 2, 3, 4}\n"
     ]
    }
   ],
   "source": [
    "#14. Create a set from a list.\n",
    "\n",
    "list1 = [1,2,3,4]\n",
    "s1 = set(list1)\n",
    "print(s1)"
   ]
  },
  {
   "cell_type": "code",
   "execution_count": 8,
   "id": "360160d0-ccbe-4da1-8fac-e2da28685a63",
   "metadata": {},
   "outputs": [
    {
     "name": "stdout",
     "output_type": "stream",
     "text": [
      "[1, 2, 3, 4, 5]\n"
     ]
    }
   ],
   "source": [
    "#15. Convert a set to a list.\n",
    "s1 = {1,2,3,4,5}\n",
    "l1 = list(s1)\n",
    "print(l1)"
   ]
  },
  {
   "cell_type": "code",
   "execution_count": 18,
   "id": "14d2c2d4-68e5-488c-aafe-56e78bd5cc9d",
   "metadata": {},
   "outputs": [
    {
     "name": "stdout",
     "output_type": "stream",
     "text": [
      "3\n",
      "{1, 2, 4, 5}\n"
     ]
    }
   ],
   "source": [
    "#16. Remove a random element from a set.\n",
    "import random\n",
    "s1 = {1,2,3,4,5}\n",
    "n = random.choice(list(s1))\n",
    "print(n)\n",
    "s1.remove(n)\n",
    "print(s1)"
   ]
  },
  {
   "cell_type": "code",
   "execution_count": 20,
   "id": "a4940c1a-968d-421b-b182-6ee9f9b4453d",
   "metadata": {},
   "outputs": [
    {
     "name": "stdout",
     "output_type": "stream",
     "text": [
      "{3, 5, 22, 44}\n"
     ]
    }
   ],
   "source": [
    "#17. Pop an element from a set.\n",
    "s1 = {1,22,3,44,5}\n",
    "s1.pop()\n",
    "print(s1)"
   ]
  },
  {
   "cell_type": "code",
   "execution_count": 23,
   "id": "74f9475f-192e-4e67-808d-25b6ee94c172",
   "metadata": {},
   "outputs": [
    {
     "name": "stdout",
     "output_type": "stream",
     "text": [
      "Common elements found\n"
     ]
    }
   ],
   "source": [
    "#18. Check if two sets have no elements in common.\n",
    "\n",
    "s1 = {1,2,3,4,4,5,6,7}\n",
    "s2 = {4,5,6,7}\n",
    "\n",
    "s3 = s1.intersection(s2)\n",
    "if len(s3) >0:\n",
    "    print(\"Common elements found\")\n",
    "else:\n",
    "    print(\"No common elements found\")\n"
   ]
  },
  {
   "cell_type": "code",
   "execution_count": 29,
   "id": "7b30a901-b66c-42cb-a35a-349a4599bc04",
   "metadata": {},
   "outputs": [
    {
     "name": "stdout",
     "output_type": "stream",
     "text": [
      "{1, 3, 7, 8}\n"
     ]
    }
   ],
   "source": [
    "#19. Find the symmetric difference between two sets.\n",
    "\n",
    "s1 = {1, 5, 3, 4, 5}\n",
    "s2 = {4, 5, 5, 7, 8}\n",
    "\n",
    "s3 = s1 ^ s2\n",
    "print(s3)"
   ]
  },
  {
   "cell_type": "code",
   "execution_count": 39,
   "id": "2c75f1eb-d8c4-4b04-b488-2cf0fcd16d01",
   "metadata": {},
   "outputs": [
    {
     "name": "stdout",
     "output_type": "stream",
     "text": [
      "{1, 3, 4, 5, 11, 12, 14}\n"
     ]
    }
   ],
   "source": [
    "#20. Update a set with elements from another set.\n",
    "s1 = {1,5,3,4,5}\n",
    "s2 = {11,12,14}\n",
    "\n",
    "s1.update(s2)\n",
    "print(s1)"
   ]
  },
  {
   "cell_type": "code",
   "execution_count": 44,
   "id": "1aeeef2c-335c-44c4-8cea-770201afb61d",
   "metadata": {},
   "outputs": [
    {
     "name": "stdout",
     "output_type": "stream",
     "text": [
      "{2, 3, 4, 5}\n"
     ]
    }
   ],
   "source": [
    "#21. Create a set of the first 5 prime numbers.\n",
    "l1=[x for x in range(2, 6)\n",
    "     if all(x % y for y in range(2, x//2))]\n",
    "s1 = set(l1)\n",
    "print(s1)"
   ]
  },
  {
   "cell_type": "code",
   "execution_count": 51,
   "id": "37ef677c-9e2b-4f05-a95c-7d81c20eaaf0",
   "metadata": {},
   "outputs": [
    {
     "name": "stdout",
     "output_type": "stream",
     "text": [
      "Not identical\n",
      "Identical\n"
     ]
    }
   ],
   "source": [
    "#22. Check if two sets are identical.\n",
    "\n",
    "s1 = {1,3,5,6}\n",
    "s2 = {11,5,3,6}\n",
    "s3 = {1,3,5,6}\n",
    "\n",
    "\n",
    "if (s1 == s2):\n",
    "    print(\"Identical\")\n",
    "else:\n",
    "    print(\"Not identical\")\n",
    "\n",
    "if (s1 == s3):\n",
    "    print(\"Identical\")\n",
    "else:\n",
    "    print(\"Not identical\")    "
   ]
  },
  {
   "cell_type": "code",
   "execution_count": 1,
   "id": "1a443871-5ef6-459a-8540-a53d45835a3e",
   "metadata": {},
   "outputs": [
    {
     "name": "stdout",
     "output_type": "stream",
     "text": [
      "frozenset({1, 2, 3, 4, 5})\n"
     ]
    }
   ],
   "source": [
    "#23. Create a frozen set.\n",
    "\n",
    "l1 = [1,2,3,4,5]\n",
    "s1 = frozenset(l1)\n",
    "print(s1)\n"
   ]
  },
  {
   "cell_type": "code",
   "execution_count": 3,
   "id": "c3dee279-8b22-4293-a2a2-f42e87210c41",
   "metadata": {},
   "outputs": [
    {
     "name": "stdout",
     "output_type": "stream",
     "text": [
      "True\n",
      "False\n"
     ]
    }
   ],
   "source": [
    "#24. Check if a set is disjoint with another set.\n",
    "\n",
    "s1 = {1, 2, 3, 4}\n",
    "s2 = {5, 6, 7, 8}\n",
    "s3 = {1, 1, 2, 8}\n",
    "\n",
    "s4 = s1.isdisjoint(s2)\n",
    "s5 = s1.isdisjoint(s3)\n",
    "print(s4)\n",
    "print(s5)"
   ]
  },
  {
   "cell_type": "code",
   "execution_count": 4,
   "id": "4e151de5-87f8-4b94-82da-60509b86056b",
   "metadata": {},
   "outputs": [
    {
     "name": "stdout",
     "output_type": "stream",
     "text": [
      "{0, 1, 4, 9, 16}\n"
     ]
    }
   ],
   "source": [
    "#25. Create a set of squares of numbers from 1 to 5.\n",
    "s = set(i*i for i in range(5))\n",
    "print(s)"
   ]
  },
  {
   "cell_type": "code",
   "execution_count": 5,
   "id": "0e418a1d-dba8-4c88-bd08-dd64d591520b",
   "metadata": {},
   "outputs": [
    {
     "name": "stdout",
     "output_type": "stream",
     "text": [
      "{2, 4, 6, 8, 10}\n"
     ]
    }
   ],
   "source": [
    "#26. Filter out all even numbers from a set.\n",
    "s = set(i for i in {1,2,3,4,5,6,7,8,9,10} if i%2==0)\n",
    "print(s)"
   ]
  },
  {
   "cell_type": "code",
   "execution_count": 6,
   "id": "6d4d9710-b979-45fb-9f7d-cf3395fb23ac",
   "metadata": {},
   "outputs": [
    {
     "name": "stdout",
     "output_type": "stream",
     "text": [
      "{0, 2, 4, 6, 8, 10, 12, 14, 16, 18}\n"
     ]
    }
   ],
   "source": [
    "#27. Multiply all elements in a set by 2.\n",
    "s=set(i*2 for i in range(10))\n",
    "print(s)"
   ]
  },
  {
   "cell_type": "code",
   "execution_count": 14,
   "id": "92bbf850-d43a-4550-b4a7-001f467d5125",
   "metadata": {},
   "outputs": [
    {
     "name": "stdout",
     "output_type": "stream",
     "text": [
      "{43, 75, 45, 16, 56}\n"
     ]
    }
   ],
   "source": [
    "#28. Create a set of random numbers.\n",
    "s1 = set()\n",
    "import random\n",
    "for i in range(5):\n",
    "    x = random.randint(0,100)\n",
    "    s1.add(x)\n",
    "\n",
    "print(s1)"
   ]
  },
  {
   "cell_type": "code",
   "execution_count": 16,
   "id": "3c25aa9d-b827-451b-96c0-7c2bed93f12d",
   "metadata": {},
   "outputs": [
    {
     "name": "stdout",
     "output_type": "stream",
     "text": [
      "Empty\n"
     ]
    }
   ],
   "source": [
    "#29. Check if a set is empty.\n",
    "s=set()\n",
    "if len(s) == 0:\n",
    "    print(\"Empty\")"
   ]
  },
  {
   "cell_type": "code",
   "execution_count": 24,
   "id": "5d528578-3dde-43dc-a897-5915af161760",
   "metadata": {},
   "outputs": [
    {
     "name": "stdout",
     "output_type": "stream",
     "text": [
      "<class 'set'>\n",
      "{frozenset({33, 11, 44, 22}), frozenset({88, 66, 77, 55})}\n"
     ]
    }
   ],
   "source": [
    "#30. Create a nested set (hint: use frozenset).\n",
    "s1 = {11,22,33,44}\n",
    "s2 = {55,66,77,88}\n",
    "\n",
    "s3 = frozenset(s1)\n",
    "s4 = frozenset(s2)\n",
    "\n",
    "s5 = {s4,s3}\n",
    "print(type(s5))\n",
    "\n",
    "print(s5)"
   ]
  },
  {
   "cell_type": "code",
   "execution_count": 26,
   "id": "e85b0d53-bcf7-4102-836a-9db8546fe0c1",
   "metadata": {},
   "outputs": [
    {
     "name": "stdout",
     "output_type": "stream",
     "text": [
      "{33, 44, 22}\n"
     ]
    }
   ],
   "source": [
    "#31. Remove an element from a set using the discard method.\n",
    "s1 = {11,22,33,44}\n",
    "\n",
    "s1.discard(11)\n",
    "print(s1)"
   ]
  },
  {
   "cell_type": "code",
   "execution_count": 30,
   "id": "34c57e6e-68aa-452d-8712-e768fb9141fa",
   "metadata": {},
   "outputs": [
    {
     "name": "stdout",
     "output_type": "stream",
     "text": [
      "Not matched {33, 11, 44, 22}  and  {88, 66, 77, 55}\n",
      "Matched {88, 66, 77, 55}  and  {88, 66, 77, 55}\n"
     ]
    }
   ],
   "source": [
    "#32. Compare two sets.\n",
    "s1 = {11,22,33,44}\n",
    "s2 = {55,66,77,88}\n",
    "s3 = {55,66,77,88}\n",
    "\n",
    "if s1 == s2:\n",
    "    print(\"Matched\",s1,\" and \",s2)\n",
    "else:\n",
    "    print(\"Not matched\",s1,\" and \",s2)\n",
    "    \n",
    "if s2 == s3:\n",
    "    print(\"Matched\",s2,\" and \",s3)\n",
    "else:\n",
    "    print(\"Not matched\")"
   ]
  },
  {
   "cell_type": "code",
   "execution_count": 33,
   "id": "1f3c0a7d-0a29-4807-9e58-ad0cd1fde7ee",
   "metadata": {},
   "outputs": [
    {
     "name": "stdout",
     "output_type": "stream",
     "text": [
      "{'n', 'r', 'U', 'v', 's', 'e', 'i'}\n"
     ]
    }
   ],
   "source": [
    "#33. Create a set from a string.\n",
    "\n",
    "str1 = \"Universe\"\n",
    "\n",
    "s = set(str1)\n",
    "print(s)"
   ]
  },
  {
   "cell_type": "code",
   "execution_count": 39,
   "id": "929f182c-82b8-410d-a7d8-cdac5bee54ef",
   "metadata": {},
   "outputs": [
    {
     "name": "stdout",
     "output_type": "stream",
     "text": [
      "{1, 99, 3, 5, 7}\n",
      "<class 'set'>\n"
     ]
    }
   ],
   "source": [
    "#34. Convert a set of strings to a set of integers.\n",
    "str1 = {'1','3','7','5','99'}\n",
    "s1 = set()\n",
    "for i in str1:\n",
    "    s1.add(int(i))\n",
    "\n",
    "print(s1)\n",
    "print(type(s1))"
   ]
  },
  {
   "cell_type": "code",
   "execution_count": 40,
   "id": "2a8e978a-3d33-4a51-ae56-35b931db17cb",
   "metadata": {},
   "outputs": [
    {
     "name": "stdout",
     "output_type": "stream",
     "text": [
      "{'1', '4', '5', '3', '67', '0'}\n"
     ]
    }
   ],
   "source": [
    "#35. Convert a set of integers to a set of strings.\n",
    "\n",
    "int1 = {1,3,4,5,67,0}\n",
    "s1 = set()\n",
    "for i in int1:\n",
    "    s1.add(str(i))\n",
    "print(s1)"
   ]
  },
  {
   "cell_type": "code",
   "execution_count": 42,
   "id": "02728034-9b99-43e9-8b7a-76abfb8ae7d0",
   "metadata": {},
   "outputs": [
    {
     "name": "stdout",
     "output_type": "stream",
     "text": [
      "<class 'tuple'>\n",
      "{1, 66, 33, 999, 77, 55}\n"
     ]
    }
   ],
   "source": [
    "#36. Create a set from a tuple.\n",
    "\n",
    "t1 = (1,33,55,66,77,999)\n",
    "print(type(t1))\n",
    "s2 = set(t1)\n",
    "print(s2)"
   ]
  },
  {
   "cell_type": "code",
   "execution_count": 43,
   "id": "85b5f30f-881c-4643-9e48-12848c246612",
   "metadata": {},
   "outputs": [
    {
     "name": "stdout",
     "output_type": "stream",
     "text": [
      "(1, 3, 4, 5, 6)\n",
      "<class 'tuple'>\n"
     ]
    }
   ],
   "source": [
    "#37. Convert a set to a tuple.\n",
    "s1 = {1,3,4,5,6}\n",
    "t1 = tuple(s1)\n",
    "print(t1)\n",
    "print(type(t1))"
   ]
  },
  {
   "cell_type": "code",
   "execution_count": 44,
   "id": "6c0656de-b596-47a8-9a27-d0e97e18b188",
   "metadata": {},
   "outputs": [
    {
     "name": "stdout",
     "output_type": "stream",
     "text": [
      "999\n"
     ]
    }
   ],
   "source": [
    "#38. Find the maximum value in a set.\n",
    "\n",
    "s1 = {1, 66, 33, 999, 77, 55}\n",
    "mx = max(s1)\n",
    "print(mx)"
   ]
  },
  {
   "cell_type": "code",
   "execution_count": 45,
   "id": "66bb33df-aae8-40af-8540-231453def764",
   "metadata": {},
   "outputs": [
    {
     "name": "stdout",
     "output_type": "stream",
     "text": [
      "1\n"
     ]
    }
   ],
   "source": [
    "#39. Find the minimum value in a set.\n",
    "s1 = {1, 66, 33, 999, 77, 55}\n",
    "mn = min(s1)\n",
    "print(mn)"
   ]
  },
  {
   "cell_type": "code",
   "execution_count": 46,
   "id": "640d46da-54c0-4758-9d40-0b787de0be27",
   "metadata": {},
   "outputs": [
    {
     "name": "stdin",
     "output_type": "stream",
     "text": [
      "Enter a value 55\n",
      "Enter a value 999\n",
      "Enter a value 35453\n"
     ]
    },
    {
     "name": "stdout",
     "output_type": "stream",
     "text": [
      "{'999', '35453', '55'}\n"
     ]
    }
   ],
   "source": [
    "#40. Create a set from user input.\n",
    "s1= set()\n",
    "for i in range(3):\n",
    "    a = input(\"Enter a value\")\n",
    "    s1.add(a)\n",
    "\n",
    "print(s1)"
   ]
  },
  {
   "cell_type": "code",
   "execution_count": 54,
   "id": "62491654-5b72-4df9-a178-8f94212324d7",
   "metadata": {},
   "outputs": [
    {
     "name": "stdout",
     "output_type": "stream",
     "text": [
      "There are common elements s1 and s3\n",
      "There are NO common elements between s1 and s2\n"
     ]
    }
   ],
   "source": [
    "#41. Check if the intersection of two sets is empty.\n",
    "s1 = {11,22,33,44}\n",
    "s2 = {55,66,77,88}\n",
    "s3 = {11,22,33,44}\n",
    "\n",
    "if len(s1.intersection(s3)) >0:\n",
    "    print(\"There are common elements s1 and s3\")\n",
    "else:\n",
    "    print(\"There are NO common elements s1 and s3\")    \n",
    "\n",
    "    \n",
    "    \n",
    "if len(s1.intersection(s2)) >0:\n",
    "    print(\"There are common elements s1 and s2\")\n",
    "else:\n",
    "    print(\"There are NO common elements between s1 and s2\")  \n"
   ]
  },
  {
   "cell_type": "code",
   "execution_count": 92,
   "id": "e4fe9f42-20c2-4a62-b1cb-fa032c88f76e",
   "metadata": {},
   "outputs": [
    {
     "name": "stdout",
     "output_type": "stream",
     "text": [
      "{1, ',', 3, 2, '1', 5}\n"
     ]
    }
   ],
   "source": [
    "#42. Create a set of the first 5 Fibonacci numbers.\n",
    "s11 = [1,1]\n",
    "s1.add(1)\n",
    "s1.add(1)\n",
    "\n",
    "[s11.append(s11[i-1]+s11[i-2]) for i in range(2,5)]\n",
    "[s1.add(i) for i in s11]\n",
    "print(s1)"
   ]
  },
  {
   "cell_type": "code",
   "execution_count": 86,
   "id": "766277ae-7d6f-4b82-8212-eee35867cd71",
   "metadata": {},
   "outputs": [
    {
     "data": {
      "text/plain": [
       "(1, 1, 2, 3, 5, 8, 13, 21)"
      ]
     },
     "execution_count": 86,
     "metadata": {},
     "output_type": "execute_result"
    }
   ],
   "source": [
    "L1=[1,1]\n",
    "\n",
    "[L1.append(L1[i-1]+L1[i-2]) for i in range(2,8)]\n",
    "tuple(L1)"
   ]
  },
  {
   "cell_type": "code",
   "execution_count": 20,
   "id": "badbffe4-acfb-4831-9898-2ad96a0d4bb2",
   "metadata": {},
   "outputs": [
    {
     "name": "stdout",
     "output_type": "stream",
     "text": [
      "{0, 1, 2, 3, 5}\n"
     ]
    }
   ],
   "source": [
    "#42. Create a set of the first 5 Fibonacci numbers.\n",
    "a=0\n",
    "b=1\n",
    "s1 = set()\n",
    "for _ in range(0,6):\n",
    "    s1.add(a)\n",
    "    a, b = b, a + b\n",
    "\n",
    "    \n",
    "print(s1)"
   ]
  },
  {
   "cell_type": "code",
   "execution_count": 8,
   "id": "4da1db69-e22b-425d-a2fc-58497190106d",
   "metadata": {},
   "outputs": [
    {
     "name": "stdout",
     "output_type": "stream",
     "text": [
      "[1, 2, 3, 4]\n"
     ]
    }
   ],
   "source": [
    "#43. Remove duplicates from a list using sets.\n",
    "\n",
    "s1 = [1,1,2,3,4,2,3,4]\n",
    "s2 = set(s1)\n",
    "s3 = list(s2)\n",
    "print(s3)\n"
   ]
  },
  {
   "cell_type": "code",
   "execution_count": 7,
   "id": "a5131430-63c1-455b-b90a-98a1e8dcad6f",
   "metadata": {},
   "outputs": [
    {
     "name": "stdout",
     "output_type": "stream",
     "text": [
      "There are common elements\n"
     ]
    }
   ],
   "source": [
    "#44. Check if two sets have the same elements, regardless of their count.\n",
    "s1 = {8,8,8,2,2,2,4,4,8,2,5,5,2,4,8}\n",
    "s2 = {5,8,2,2,4}\n",
    "\n",
    "l1 = list(s1)\n",
    "l2 = list(s2)\n",
    "\n",
    "l3 = sorted(l1)\n",
    "l4 = sorted(l2)\n",
    "\n",
    "if l3 == l4:\n",
    "    print(\"There are common elements\")\n",
    "else:\n",
    "    print(\"There are NO common elements\")"
   ]
  },
  {
   "cell_type": "code",
   "execution_count": 8,
   "id": "bbafe681-380d-4392-8021-8c0aae1a536c",
   "metadata": {},
   "outputs": [
    {
     "name": "stdout",
     "output_type": "stream",
     "text": [
      "{1, 2, 4, 8, 16}\n"
     ]
    }
   ],
   "source": [
    "#45. Create a set of the first `n` powers of 2.\n",
    "\n",
    "def calculate_power(n):\n",
    "    s1 = set()\n",
    "    for i in range(n):\n",
    "        num = 2 ** i\n",
    "        s1.add(num)\n",
    "    return s1\n",
    "\n",
    "c = calculate_power(5)\n",
    "print(c)"
   ]
  },
  {
   "cell_type": "code",
   "execution_count": 10,
   "id": "5f8a06ab-1be5-4962-8b93-f73191cd7b69",
   "metadata": {},
   "outputs": [
    {
     "name": "stdout",
     "output_type": "stream",
     "text": [
      "{9, 12, 7}\n"
     ]
    }
   ],
   "source": [
    "#46. Find the common elements between a set and a list.\n",
    "\n",
    "l1 = [7, 12, 5, 9]\n",
    "s1 = {3, 7, 9, 12, 15}\n",
    "\n",
    "s2 = set(l1)\n",
    "\n",
    "s3 = s1.intersection(s2)\n",
    "print(s3)"
   ]
  },
  {
   "cell_type": "code",
   "execution_count": 16,
   "id": "96775484-1f1c-4e03-9a9d-633aa8059fb3",
   "metadata": {},
   "outputs": [
    {
     "name": "stdout",
     "output_type": "stream",
     "text": [
      "{0, 1, 10, 4}\n"
     ]
    }
   ],
   "source": [
    "#47. Create a set of the first `n` triangular numbers.\n",
    "\n",
    "def Cal_Tri_Num(n):\n",
    "    total = 0\n",
    "    for i in range(n):\n",
    "        \n",
    "        for j in range(n):\n",
    "            #print(\"*\", end=\"\")\n",
    "            total = total + j\n",
    "        n = n-1\n",
    "        #print(\"\\n\")\n",
    "    return total\n",
    "\n",
    "\n",
    "s1 = set()\n",
    "            \n",
    "for i in range(5):\n",
    "    s1.add(Cal_Tri_Num(i))\n",
    "    \n",
    "print(s1)"
   ]
  },
  {
   "cell_type": "code",
   "execution_count": 9,
   "id": "0ba99873-c528-40e9-969d-41ef85eaa1b9",
   "metadata": {},
   "outputs": [
    {
     "name": "stdout",
     "output_type": "stream",
     "text": [
      "Subset\n"
     ]
    }
   ],
   "source": [
    "#48. Check if a set contains another set as a subset.\n",
    "\n",
    "s1 = {1,2,3,4,5}\n",
    "s2 = {4,5}\n",
    "\n",
    "if s2.issubset(s1):\n",
    "    print(\"Subset\")\n",
    "else:\n",
    "    print(\"Not a subset\")"
   ]
  },
  {
   "cell_type": "code",
   "execution_count": 16,
   "id": "e82ef614-e737-487e-bc38-596ab925dc32",
   "metadata": {},
   "outputs": [
    {
     "name": "stdout",
     "output_type": "stream",
     "text": [
      "[0, 1, 0, 1, 0, 1, 0, 1, 0, 1]\n",
      "{0, 1}\n"
     ]
    }
   ],
   "source": [
    "#49. Create a set of alternating 1s and 0s of length `n`.\n",
    "\n",
    "def create_1and0(n):\n",
    "    index = 0\n",
    "    list1 = []\n",
    "    for i in range(n):\n",
    "        if index == 0:\n",
    "            list1.append(0)\n",
    "            index = index+1\n",
    "        elif index == 1:\n",
    "            list1.append(1)\n",
    "            index = 0\n",
    "    return list1\n",
    "\n",
    "print(create_1and0(10))\n",
    "\n",
    "s1 = set(create_1and0(10))\n",
    "print(s1)"
   ]
  },
  {
   "cell_type": "code",
   "execution_count": 17,
   "id": "c508e830-52fb-4b27-84a4-828300db1a0c",
   "metadata": {},
   "outputs": [
    {
     "name": "stdout",
     "output_type": "stream",
     "text": [
      "{1, 2, 3, 4, 5, 7, 8, 9, 10, 688, 62}\n"
     ]
    }
   ],
   "source": [
    "#50. Merge multiple sets into one.\n",
    "\n",
    "s1 = {1,2,3,4,5}\n",
    "s2 = {5,7,8,9,10}\n",
    "s3 = {3,4,62,688,7,7}\n",
    "\n",
    "s4 = s1.union(s2).union(s3)\n",
    "print(s4)"
   ]
  }
 ],
 "metadata": {
  "kernelspec": {
   "display_name": "Python 3 (ipykernel)",
   "language": "python",
   "name": "python3"
  },
  "language_info": {
   "codemirror_mode": {
    "name": "ipython",
    "version": 3
   },
   "file_extension": ".py",
   "mimetype": "text/x-python",
   "name": "python",
   "nbconvert_exporter": "python",
   "pygments_lexer": "ipython3",
   "version": "3.10.8"
  }
 },
 "nbformat": 4,
 "nbformat_minor": 5
}
