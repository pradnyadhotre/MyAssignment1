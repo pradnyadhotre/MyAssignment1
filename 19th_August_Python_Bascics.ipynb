{
 "cells": [
  {
   "cell_type": "code",
   "execution_count": null,
   "id": "6ff7000b-094e-47a8-a4d3-648e03a54d45",
   "metadata": {},
   "outputs": [],
   "source": [
    "'''Problem Statement 1:\n",
    "Declare two variables, `x` and `y`, and assign them integer values.\n",
    "Swap the values of these variables without using any temporary\n",
    "variable.'''\n",
    "\n",
    "x=10\n",
    "y=20\n",
    "\n",
    "print(\"x : \",x)\n",
    "print(\"y : \",y)\n",
    "\n",
    "x=x+y\n",
    "y=x-y\n",
    "\n",
    "print(\"x : \",x)\n",
    "print(\"y : \",y)\n",
    "\n",
    "x=x-y\n",
    "\n",
    "print(\"x : \",x)\n",
    "print(\"y : \",y)\n"
   ]
  },
  {
   "cell_type": "code",
   "execution_count": null,
   "id": "a890b6f8-b6cd-42de-b1ee-f0a503610b94",
   "metadata": {},
   "outputs": [],
   "source": [
    "'''Problem Statement 2:\n",
    "Create a program that calculates the area of a rectangle. Take the\n",
    "length and width as inputs from the user and store them in variables.\n",
    "Calculate and display the area.'''\n",
    "\n",
    "w = int(input(\"Please enter width of the rectangle : \"))\n",
    "h = int(input(\"Please enter height of the rectangle : \"))\n",
    "area = w*h\n",
    "print(\"The area of the rectangle is : \", area)"
   ]
  },
  {
   "cell_type": "code",
   "execution_count": null,
   "id": "0d6d0193-ddb4-4513-a1b4-38225a6aa113",
   "metadata": {},
   "outputs": [],
   "source": [
    "'''Problem Statement 3:\n",
    "Write a Python program that converts temperature from Celsius to\n",
    "Fahrenheit. Take the temperature in Celsius as input, store it in a\n",
    "variable, convert it to Fahrenheit, and display the result.\n",
    "\n",
    "To convert temperatures in degrees Celsius to Fahrenheit, multiply by 1.8 (or 9/5) and add 32.'''\n",
    "\n",
    "\n",
    "celsius = int(input(\"Please enter the temperature in Celsius : \"))\n",
    "fahrenheit = ((celsius * 1.8) + 32)\n",
    "print(\"The temperature in Celsius is : \",celsius,\" and Fahrenheit is : \",fahrenheit)"
   ]
  },
  {
   "cell_type": "code",
   "execution_count": null,
   "id": "440da701-5e6d-4a74-87a7-40e6c6687c09",
   "metadata": {},
   "outputs": [],
   "source": [
    "'''Problm Statement 1:\n",
    "Write a Python program that takes a string as input and prints the\n",
    "length of the string.'''\n",
    "\n",
    "myString = input(\"Please enter the string : \")\n",
    "length = len(myString)\n",
    "print(\"The length of the string :\",myString,\" is \",length)"
   ]
  },
  {
   "cell_type": "code",
   "execution_count": null,
   "id": "781f651f-286f-4da0-92f7-e13eba8e93ca",
   "metadata": {},
   "outputs": [],
   "source": [
    "'''Problem Statement 2:\n",
    "Create a program that takes a sentence from the user and counts the\n",
    "number of vowels (a, e, i, o, u) in the string.'''\n",
    "\n",
    "myString = input(\"Please enter the string\")\n",
    "myString = myString.lower()\n",
    "count,countA, countE, countI, countO, countU = 0,0,0,0,0,0\n",
    "\n",
    "countA = myString.count(\"a\")\n",
    "countE = myString.count(\"e\")\n",
    "countI = myString.count(\"i\")\n",
    "countO = myString.count(\"o\")\n",
    "countU = myString.count(\"u\")\n",
    "\n",
    "count = count + (countA + countE + countI + countO + countU)\n",
    "\n",
    "print(\"The total vowels in the string are :\", count)\n"
   ]
  },
  {
   "cell_type": "code",
   "execution_count": null,
   "id": "66140c67-ff16-4728-851b-87d18b842d42",
   "metadata": {},
   "outputs": [],
   "source": [
    "'''Problem Statement 3:\n",
    "Given a string, reverse the order of characters using string slicing and\n",
    "print the reversed string.'''\n",
    "\n",
    "\n",
    "s1 = \"billionaire\"\n",
    "\n",
    "s2 = s1[::-1]\n",
    "\n",
    "print(\"The reverse of \",s1,\"is \",s2)"
   ]
  },
  {
   "cell_type": "code",
   "execution_count": null,
   "id": "af0d1d6b-bdb1-4766-a1d0-cbf2bf329311",
   "metadata": {},
   "outputs": [],
   "source": [
    "'''Problem Statement 4:\n",
    "Write a program that takes a string as input and checks if it is a\n",
    "palindrome (reads the same forwards and backwards).'''\n",
    "\n",
    "s3 = input(\"Please enter a string\")\n",
    "s3 = s3.lower()\n",
    "\n",
    "s4 = s3[::-1]\n",
    "\n",
    "if s3 == s4:\n",
    "    print(\"Palindrome\")\n",
    "else:\n",
    "    print(\"Not a palindrome\")\n"
   ]
  },
  {
   "cell_type": "code",
   "execution_count": 1,
   "id": "d8b30cd5-806e-4398-b694-3c151aa6a4f9",
   "metadata": {},
   "outputs": [
    {
     "name": "stdin",
     "output_type": "stream",
     "text": [
      "Enter the string which has spaces s s s\n"
     ]
    },
    {
     "name": "stdout",
     "output_type": "stream",
     "text": [
      "Before s s s\n",
      "After sss\n"
     ]
    }
   ],
   "source": [
    "'''Problem Statement 5:\n",
    "Create a program that takes a string as input and removes all the\n",
    "spaces from it. Print the modified string without spaces.'''\n",
    "\n",
    "s5 = input(\"Enter the string which has spaces\")\n",
    "\n",
    "''' #Using Replace\n",
    "s6 = s5.replace(\" \",\"\")\n",
    "print(\"Before\", s5)\n",
    "print(\"After\", s6)\n",
    "'''\n",
    "\n",
    "#using Split\n",
    "s6=\"\"\n",
    "arr = s5.split(\" \")\n",
    "for i in arr:\n",
    "    s6 = s6 + i\n",
    "\n",
    "print(\"Before\", s5)\n",
    "print(\"After\", s6)\n"
   ]
  },
  {
   "cell_type": "code",
   "execution_count": null,
   "id": "67488659-218e-42c9-9705-3848cec2972c",
   "metadata": {},
   "outputs": [],
   "source": []
  }
 ],
 "metadata": {
  "kernelspec": {
   "display_name": "Python 3 (ipykernel)",
   "language": "python",
   "name": "python3"
  },
  "language_info": {
   "codemirror_mode": {
    "name": "ipython",
    "version": 3
   },
   "file_extension": ".py",
   "mimetype": "text/x-python",
   "name": "python",
   "nbconvert_exporter": "python",
   "pygments_lexer": "ipython3",
   "version": "3.10.8"
  }
 },
 "nbformat": 4,
 "nbformat_minor": 5
}
